{
 "cells": [
  {
   "cell_type": "markdown",
   "id": "0268e77c",
   "metadata": {},
   "source": [
    "# 학습 데이터 준비\n",
    "\n",
    "> Coverage\n",
    "1. Data Sampling\n",
    "2. Data Labeling에 따른 Learning 유형\n",
    "2. Class Imbalnce"
   ]
  },
  {
   "cell_type": "markdown",
   "id": "8e04c3fd",
   "metadata": {},
   "source": [
    "## 0. Import"
   ]
  },
  {
   "cell_type": "code",
   "execution_count": 50,
   "id": "e67c46d1",
   "metadata": {},
   "outputs": [],
   "source": [
    "import os\n",
    "import pandas as pd\n",
    "import numpy as np\n",
    "import matplotlib.pyplot as plt\n",
    "import seaborn as sns\n",
    "\n",
    "from sklearn.model_selection import train_test_split\n",
    "\n",
    "from sklearn.datasets import load_iris\n",
    "from sklearn.tree import DecisionTreeClassifier\n",
    "from sklearn.cluster import KMeans\n",
    "from sklearn.semi_supervised import LabelSpreading\n",
    "from sklearn.metrics import confusion_matrix\n",
    "\n",
    "from imblearn.over_sampling import SMOTE, ADASYN\n",
    "from imblearn.under_sampling import RandomUnderSampler, TomekLinks, EditedNearestNeighbours\n",
    "from imblearn.combine import SMOTEENN, SMOTETomek"
   ]
  },
  {
   "cell_type": "markdown",
   "id": "a854ddd1",
   "metadata": {},
   "source": [
    "## 1. Data Sampling"
   ]
  },
  {
   "cell_type": "code",
   "execution_count": 4,
   "id": "286fd853",
   "metadata": {},
   "outputs": [
    {
     "data": {
      "text/html": [
       "<div>\n",
       "<style scoped>\n",
       "    .dataframe tbody tr th:only-of-type {\n",
       "        vertical-align: middle;\n",
       "    }\n",
       "\n",
       "    .dataframe tbody tr th {\n",
       "        vertical-align: top;\n",
       "    }\n",
       "\n",
       "    .dataframe thead th {\n",
       "        text-align: right;\n",
       "    }\n",
       "</style>\n",
       "<table border=\"1\" class=\"dataframe\">\n",
       "  <thead>\n",
       "    <tr style=\"text-align: right;\">\n",
       "      <th></th>\n",
       "      <th>Age</th>\n",
       "      <th>Income</th>\n",
       "    </tr>\n",
       "  </thead>\n",
       "  <tbody>\n",
       "    <tr>\n",
       "      <th>0</th>\n",
       "      <td>20</td>\n",
       "      <td>77895</td>\n",
       "    </tr>\n",
       "    <tr>\n",
       "      <th>1</th>\n",
       "      <td>23</td>\n",
       "      <td>85343</td>\n",
       "    </tr>\n",
       "    <tr>\n",
       "      <th>2</th>\n",
       "      <td>25</td>\n",
       "      <td>61105</td>\n",
       "    </tr>\n",
       "    <tr>\n",
       "      <th>3</th>\n",
       "      <td>38</td>\n",
       "      <td>73555</td>\n",
       "    </tr>\n",
       "    <tr>\n",
       "      <th>4</th>\n",
       "      <td>37</td>\n",
       "      <td>67759</td>\n",
       "    </tr>\n",
       "  </tbody>\n",
       "</table>\n",
       "</div>"
      ],
      "text/plain": [
       "   Age  Income\n",
       "0   20   77895\n",
       "1   23   85343\n",
       "2   25   61105\n",
       "3   38   73555\n",
       "4   37   67759"
      ]
     },
     "execution_count": 4,
     "metadata": {},
     "output_type": "execute_result"
    }
   ],
   "source": [
    "df = pd.DataFrame({\n",
    "    'Age' : np.random.randint(20, 40, 100),\n",
    "    'Income' : np.random.randint(60000, 100000, 100)\n",
    "})\n",
    "\n",
    "df.head()"
   ]
  },
  {
   "cell_type": "markdown",
   "id": "a2a7ee81",
   "metadata": {},
   "source": [
    "> Random Sampling"
   ]
  },
  {
   "cell_type": "code",
   "execution_count": 7,
   "id": "155c106c",
   "metadata": {},
   "outputs": [
    {
     "data": {
      "text/html": [
       "<div>\n",
       "<style scoped>\n",
       "    .dataframe tbody tr th:only-of-type {\n",
       "        vertical-align: middle;\n",
       "    }\n",
       "\n",
       "    .dataframe tbody tr th {\n",
       "        vertical-align: top;\n",
       "    }\n",
       "\n",
       "    .dataframe thead th {\n",
       "        text-align: right;\n",
       "    }\n",
       "</style>\n",
       "<table border=\"1\" class=\"dataframe\">\n",
       "  <thead>\n",
       "    <tr style=\"text-align: right;\">\n",
       "      <th></th>\n",
       "      <th>Age</th>\n",
       "      <th>Income</th>\n",
       "    </tr>\n",
       "  </thead>\n",
       "  <tbody>\n",
       "    <tr>\n",
       "      <th>83</th>\n",
       "      <td>21</td>\n",
       "      <td>98514</td>\n",
       "    </tr>\n",
       "    <tr>\n",
       "      <th>53</th>\n",
       "      <td>29</td>\n",
       "      <td>98318</td>\n",
       "    </tr>\n",
       "    <tr>\n",
       "      <th>70</th>\n",
       "      <td>24</td>\n",
       "      <td>81412</td>\n",
       "    </tr>\n",
       "    <tr>\n",
       "      <th>45</th>\n",
       "      <td>31</td>\n",
       "      <td>66698</td>\n",
       "    </tr>\n",
       "    <tr>\n",
       "      <th>44</th>\n",
       "      <td>26</td>\n",
       "      <td>74993</td>\n",
       "    </tr>\n",
       "    <tr>\n",
       "      <th>39</th>\n",
       "      <td>22</td>\n",
       "      <td>74566</td>\n",
       "    </tr>\n",
       "    <tr>\n",
       "      <th>22</th>\n",
       "      <td>26</td>\n",
       "      <td>93814</td>\n",
       "    </tr>\n",
       "    <tr>\n",
       "      <th>80</th>\n",
       "      <td>31</td>\n",
       "      <td>89383</td>\n",
       "    </tr>\n",
       "    <tr>\n",
       "      <th>10</th>\n",
       "      <td>24</td>\n",
       "      <td>99502</td>\n",
       "    </tr>\n",
       "    <tr>\n",
       "      <th>0</th>\n",
       "      <td>20</td>\n",
       "      <td>77895</td>\n",
       "    </tr>\n",
       "  </tbody>\n",
       "</table>\n",
       "</div>"
      ],
      "text/plain": [
       "    Age  Income\n",
       "83   21   98514\n",
       "53   29   98318\n",
       "70   24   81412\n",
       "45   31   66698\n",
       "44   26   74993\n",
       "39   22   74566\n",
       "22   26   93814\n",
       "80   31   89383\n",
       "10   24   99502\n",
       "0    20   77895"
      ]
     },
     "execution_count": 7,
     "metadata": {},
     "output_type": "execute_result"
    }
   ],
   "source": [
    "# Random Sampling\n",
    "rand_samples = df.sample(n=10, random_state=42)\n",
    "\n",
    "rand_samples"
   ]
  },
  {
   "cell_type": "markdown",
   "id": "39e9461e",
   "metadata": {},
   "source": [
    "> Stratified Sampling"
   ]
  },
  {
   "cell_type": "code",
   "execution_count": 10,
   "id": "18bab3f8",
   "metadata": {},
   "outputs": [],
   "source": [
    "# Stratified Sampling\n",
    "# 'Age' 컬럼을 기준으로 층화 추출\n",
    "train, test = train_test_split(\n",
    "    df,\n",
    "    test_size=0.2,\n",
    "    stratify=df['Age']\n",
    ")"
   ]
  },
  {
   "cell_type": "code",
   "execution_count": 11,
   "id": "a1c6c1ea",
   "metadata": {},
   "outputs": [
    {
     "data": {
      "text/html": [
       "<div>\n",
       "<style scoped>\n",
       "    .dataframe tbody tr th:only-of-type {\n",
       "        vertical-align: middle;\n",
       "    }\n",
       "\n",
       "    .dataframe tbody tr th {\n",
       "        vertical-align: top;\n",
       "    }\n",
       "\n",
       "    .dataframe thead th {\n",
       "        text-align: right;\n",
       "    }\n",
       "</style>\n",
       "<table border=\"1\" class=\"dataframe\">\n",
       "  <thead>\n",
       "    <tr style=\"text-align: right;\">\n",
       "      <th></th>\n",
       "      <th>Age</th>\n",
       "      <th>Income</th>\n",
       "    </tr>\n",
       "  </thead>\n",
       "  <tbody>\n",
       "    <tr>\n",
       "      <th>count</th>\n",
       "      <td>80.000000</td>\n",
       "      <td>80.000000</td>\n",
       "    </tr>\n",
       "    <tr>\n",
       "      <th>mean</th>\n",
       "      <td>29.012500</td>\n",
       "      <td>81419.162500</td>\n",
       "    </tr>\n",
       "    <tr>\n",
       "      <th>std</th>\n",
       "      <td>5.926755</td>\n",
       "      <td>11535.614569</td>\n",
       "    </tr>\n",
       "    <tr>\n",
       "      <th>min</th>\n",
       "      <td>20.000000</td>\n",
       "      <td>61105.000000</td>\n",
       "    </tr>\n",
       "    <tr>\n",
       "      <th>25%</th>\n",
       "      <td>24.000000</td>\n",
       "      <td>73185.750000</td>\n",
       "    </tr>\n",
       "    <tr>\n",
       "      <th>50%</th>\n",
       "      <td>29.000000</td>\n",
       "      <td>80967.500000</td>\n",
       "    </tr>\n",
       "    <tr>\n",
       "      <th>75%</th>\n",
       "      <td>33.250000</td>\n",
       "      <td>91100.750000</td>\n",
       "    </tr>\n",
       "    <tr>\n",
       "      <th>max</th>\n",
       "      <td>39.000000</td>\n",
       "      <td>99799.000000</td>\n",
       "    </tr>\n",
       "  </tbody>\n",
       "</table>\n",
       "</div>"
      ],
      "text/plain": [
       "             Age        Income\n",
       "count  80.000000     80.000000\n",
       "mean   29.012500  81419.162500\n",
       "std     5.926755  11535.614569\n",
       "min    20.000000  61105.000000\n",
       "25%    24.000000  73185.750000\n",
       "50%    29.000000  80967.500000\n",
       "75%    33.250000  91100.750000\n",
       "max    39.000000  99799.000000"
      ]
     },
     "execution_count": 11,
     "metadata": {},
     "output_type": "execute_result"
    }
   ],
   "source": [
    "train.describe()"
   ]
  },
  {
   "cell_type": "code",
   "execution_count": 12,
   "id": "40e13e23",
   "metadata": {},
   "outputs": [
    {
     "data": {
      "text/html": [
       "<div>\n",
       "<style scoped>\n",
       "    .dataframe tbody tr th:only-of-type {\n",
       "        vertical-align: middle;\n",
       "    }\n",
       "\n",
       "    .dataframe tbody tr th {\n",
       "        vertical-align: top;\n",
       "    }\n",
       "\n",
       "    .dataframe thead th {\n",
       "        text-align: right;\n",
       "    }\n",
       "</style>\n",
       "<table border=\"1\" class=\"dataframe\">\n",
       "  <thead>\n",
       "    <tr style=\"text-align: right;\">\n",
       "      <th></th>\n",
       "      <th>Age</th>\n",
       "      <th>Income</th>\n",
       "    </tr>\n",
       "  </thead>\n",
       "  <tbody>\n",
       "    <tr>\n",
       "      <th>count</th>\n",
       "      <td>20.000000</td>\n",
       "      <td>20.000000</td>\n",
       "    </tr>\n",
       "    <tr>\n",
       "      <th>mean</th>\n",
       "      <td>29.400000</td>\n",
       "      <td>85880.000000</td>\n",
       "    </tr>\n",
       "    <tr>\n",
       "      <th>std</th>\n",
       "      <td>5.585696</td>\n",
       "      <td>10046.573367</td>\n",
       "    </tr>\n",
       "    <tr>\n",
       "      <th>min</th>\n",
       "      <td>20.000000</td>\n",
       "      <td>60931.000000</td>\n",
       "    </tr>\n",
       "    <tr>\n",
       "      <th>25%</th>\n",
       "      <td>24.750000</td>\n",
       "      <td>80939.500000</td>\n",
       "    </tr>\n",
       "    <tr>\n",
       "      <th>50%</th>\n",
       "      <td>29.500000</td>\n",
       "      <td>86274.000000</td>\n",
       "    </tr>\n",
       "    <tr>\n",
       "      <th>75%</th>\n",
       "      <td>33.250000</td>\n",
       "      <td>94513.000000</td>\n",
       "    </tr>\n",
       "    <tr>\n",
       "      <th>max</th>\n",
       "      <td>39.000000</td>\n",
       "      <td>98473.000000</td>\n",
       "    </tr>\n",
       "  </tbody>\n",
       "</table>\n",
       "</div>"
      ],
      "text/plain": [
       "             Age        Income\n",
       "count  20.000000     20.000000\n",
       "mean   29.400000  85880.000000\n",
       "std     5.585696  10046.573367\n",
       "min    20.000000  60931.000000\n",
       "25%    24.750000  80939.500000\n",
       "50%    29.500000  86274.000000\n",
       "75%    33.250000  94513.000000\n",
       "max    39.000000  98473.000000"
      ]
     },
     "execution_count": 12,
     "metadata": {},
     "output_type": "execute_result"
    }
   ],
   "source": [
    "test.describe()"
   ]
  },
  {
   "cell_type": "markdown",
   "id": "824bcc6f",
   "metadata": {},
   "source": [
    "> Cluster Sampling"
   ]
  },
  {
   "cell_type": "code",
   "execution_count": 13,
   "id": "5403686e",
   "metadata": {},
   "outputs": [
    {
     "name": "stdout",
     "output_type": "stream",
     "text": [
      "클러스터별 데이터 분포:\n",
      "AgeCluster\n",
      "Young     38\n",
      "Middle    33\n",
      "Senior    29\n",
      "Name: count, dtype: int64\n",
      "\n",
      "Middle 클러스터 샘플:\n",
      "    Age  Income AgeCluster\n",
      "98   31   81119     Middle\n",
      "53   29   98318     Middle\n",
      "74   30   94452     Middle\n",
      "55   29   94696     Middle\n",
      "33   30   64893     Middle\n"
     ]
    }
   ],
   "source": [
    "# Cluster Sampling\n",
    "# 'Age' 컬럼을 기준으로 클러스터 생성 (연령대별 그룹화)\n",
    "age_clusters = pd.cut(\n",
    "    df['Age'], \n",
    "    bins=3, \n",
    "    labels=['Young', 'Middle', 'Senior']\n",
    ")\n",
    "\n",
    "# 클러스터 정보를 데이터프레임에 추가\n",
    "df['AgeCluster'] = age_clusters\n",
    "\n",
    "# 각 클러스터별 데이터 개수 확인\n",
    "print(\"클러스터별 데이터 분포:\")\n",
    "print(df['AgeCluster'].value_counts())\n",
    "\n",
    "# 특정 클러스터에서 샘플링 (예: 'Middle' 클러스터에서 5개 샘플)\n",
    "middle_cluster_sample = df[df['AgeCluster'] == 'Middle'].sample(n=5, random_state=42)\n",
    "print(\"\\nMiddle 클러스터 샘플:\")\n",
    "print(middle_cluster_sample)"
   ]
  },
  {
   "cell_type": "markdown",
   "id": "692714d3",
   "metadata": {},
   "source": [
    "> Weight Sampling"
   ]
  },
  {
   "cell_type": "code",
   "execution_count": 15,
   "id": "5e3bf5fa",
   "metadata": {},
   "outputs": [
    {
     "data": {
      "text/html": [
       "<div>\n",
       "<style scoped>\n",
       "    .dataframe tbody tr th:only-of-type {\n",
       "        vertical-align: middle;\n",
       "    }\n",
       "\n",
       "    .dataframe tbody tr th {\n",
       "        vertical-align: top;\n",
       "    }\n",
       "\n",
       "    .dataframe thead th {\n",
       "        text-align: right;\n",
       "    }\n",
       "</style>\n",
       "<table border=\"1\" class=\"dataframe\">\n",
       "  <thead>\n",
       "    <tr style=\"text-align: right;\">\n",
       "      <th></th>\n",
       "      <th>Age</th>\n",
       "      <th>Income</th>\n",
       "      <th>AgeCluster</th>\n",
       "    </tr>\n",
       "  </thead>\n",
       "  <tbody>\n",
       "    <tr>\n",
       "      <th>39</th>\n",
       "      <td>22</td>\n",
       "      <td>74566</td>\n",
       "      <td>Young</td>\n",
       "    </tr>\n",
       "    <tr>\n",
       "      <th>95</th>\n",
       "      <td>21</td>\n",
       "      <td>68470</td>\n",
       "      <td>Young</td>\n",
       "    </tr>\n",
       "    <tr>\n",
       "      <th>72</th>\n",
       "      <td>25</td>\n",
       "      <td>80901</td>\n",
       "      <td>Young</td>\n",
       "    </tr>\n",
       "    <tr>\n",
       "      <th>58</th>\n",
       "      <td>25</td>\n",
       "      <td>92066</td>\n",
       "      <td>Young</td>\n",
       "    </tr>\n",
       "    <tr>\n",
       "      <th>16</th>\n",
       "      <td>29</td>\n",
       "      <td>66281</td>\n",
       "      <td>Middle</td>\n",
       "    </tr>\n",
       "    <tr>\n",
       "      <th>6</th>\n",
       "      <td>25</td>\n",
       "      <td>60931</td>\n",
       "      <td>Young</td>\n",
       "    </tr>\n",
       "    <tr>\n",
       "      <th>89</th>\n",
       "      <td>30</td>\n",
       "      <td>86400</td>\n",
       "      <td>Middle</td>\n",
       "    </tr>\n",
       "    <tr>\n",
       "      <th>59</th>\n",
       "      <td>39</td>\n",
       "      <td>71062</td>\n",
       "      <td>Senior</td>\n",
       "    </tr>\n",
       "    <tr>\n",
       "      <th>69</th>\n",
       "      <td>27</td>\n",
       "      <td>82931</td>\n",
       "      <td>Middle</td>\n",
       "    </tr>\n",
       "    <tr>\n",
       "      <th>2</th>\n",
       "      <td>25</td>\n",
       "      <td>61105</td>\n",
       "      <td>Young</td>\n",
       "    </tr>\n",
       "  </tbody>\n",
       "</table>\n",
       "</div>"
      ],
      "text/plain": [
       "    Age  Income AgeCluster\n",
       "39   22   74566      Young\n",
       "95   21   68470      Young\n",
       "72   25   80901      Young\n",
       "58   25   92066      Young\n",
       "16   29   66281     Middle\n",
       "6    25   60931      Young\n",
       "89   30   86400     Middle\n",
       "59   39   71062     Senior\n",
       "69   27   82931     Middle\n",
       "2    25   61105      Young"
      ]
     },
     "execution_count": 15,
     "metadata": {},
     "output_type": "execute_result"
    }
   ],
   "source": [
    "weights = np.random.rand(len(df))\n",
    "\n",
    "weighted_rand_samples = df.sample(n=10, random_state=42, weights=weights)\n",
    "\n",
    "weighted_rand_samples"
   ]
  },
  {
   "cell_type": "markdown",
   "id": "f0185702",
   "metadata": {},
   "source": [
    "> Importance Sampling\n",
    "\n",
    "weight sampling의 특별한 경우, 특정 함수의 기대값을 추정하는 데 사용하는 샘플링 방식"
   ]
  },
  {
   "cell_type": "code",
   "execution_count": 17,
   "id": "9e14957d",
   "metadata": {},
   "outputs": [
    {
     "data": {
      "text/html": [
       "<div>\n",
       "<style scoped>\n",
       "    .dataframe tbody tr th:only-of-type {\n",
       "        vertical-align: middle;\n",
       "    }\n",
       "\n",
       "    .dataframe tbody tr th {\n",
       "        vertical-align: top;\n",
       "    }\n",
       "\n",
       "    .dataframe thead th {\n",
       "        text-align: right;\n",
       "    }\n",
       "</style>\n",
       "<table border=\"1\" class=\"dataframe\">\n",
       "  <thead>\n",
       "    <tr style=\"text-align: right;\">\n",
       "      <th></th>\n",
       "      <th>Age</th>\n",
       "      <th>Income</th>\n",
       "      <th>AgeCluster</th>\n",
       "    </tr>\n",
       "  </thead>\n",
       "  <tbody>\n",
       "    <tr>\n",
       "      <th>36</th>\n",
       "      <td>26</td>\n",
       "      <td>99411</td>\n",
       "      <td>Young</td>\n",
       "    </tr>\n",
       "    <tr>\n",
       "      <th>94</th>\n",
       "      <td>25</td>\n",
       "      <td>77780</td>\n",
       "      <td>Young</td>\n",
       "    </tr>\n",
       "    <tr>\n",
       "      <th>73</th>\n",
       "      <td>30</td>\n",
       "      <td>90779</td>\n",
       "      <td>Middle</td>\n",
       "    </tr>\n",
       "    <tr>\n",
       "      <th>60</th>\n",
       "      <td>39</td>\n",
       "      <td>77065</td>\n",
       "      <td>Senior</td>\n",
       "    </tr>\n",
       "    <tr>\n",
       "      <th>16</th>\n",
       "      <td>29</td>\n",
       "      <td>66281</td>\n",
       "      <td>Middle</td>\n",
       "    </tr>\n",
       "    <tr>\n",
       "      <th>7</th>\n",
       "      <td>34</td>\n",
       "      <td>95912</td>\n",
       "      <td>Senior</td>\n",
       "    </tr>\n",
       "    <tr>\n",
       "      <th>86</th>\n",
       "      <td>25</td>\n",
       "      <td>86048</td>\n",
       "      <td>Young</td>\n",
       "    </tr>\n",
       "    <tr>\n",
       "      <th>61</th>\n",
       "      <td>30</td>\n",
       "      <td>81034</td>\n",
       "      <td>Middle</td>\n",
       "    </tr>\n",
       "    <tr>\n",
       "      <th>71</th>\n",
       "      <td>32</td>\n",
       "      <td>87158</td>\n",
       "      <td>Middle</td>\n",
       "    </tr>\n",
       "    <tr>\n",
       "      <th>1</th>\n",
       "      <td>23</td>\n",
       "      <td>85343</td>\n",
       "      <td>Young</td>\n",
       "    </tr>\n",
       "  </tbody>\n",
       "</table>\n",
       "</div>"
      ],
      "text/plain": [
       "    Age  Income AgeCluster\n",
       "36   26   99411      Young\n",
       "94   25   77780      Young\n",
       "73   30   90779     Middle\n",
       "60   39   77065     Senior\n",
       "16   29   66281     Middle\n",
       "7    34   95912     Senior\n",
       "86   25   86048      Young\n",
       "61   30   81034     Middle\n",
       "71   32   87158     Middle\n",
       "1    23   85343      Young"
      ]
     },
     "execution_count": 17,
     "metadata": {},
     "output_type": "execute_result"
    }
   ],
   "source": [
    "def importance_func(val):\n",
    "    return val**2\n",
    "\n",
    "importances = importance_func(df['Income'])\n",
    "normalized_importances = importances / importances.sum()\n",
    "importance_samples = df.sample(n=10, random_state=42, weights=normalized_importances)\n",
    "importance_samples"
   ]
  },
  {
   "cell_type": "markdown",
   "id": "b4e3861d",
   "metadata": {},
   "source": [
    "## 2. Data Labeling 에 따른 Learning 유형"
   ]
  },
  {
   "cell_type": "code",
   "execution_count": 21,
   "id": "48108475",
   "metadata": {},
   "outputs": [],
   "source": [
    "data = load_iris()"
   ]
  },
  {
   "cell_type": "markdown",
   "id": "b14819fd",
   "metadata": {},
   "source": [
    "> Supervised Learning"
   ]
  },
  {
   "cell_type": "code",
   "execution_count": 22,
   "id": "79174b8c",
   "metadata": {},
   "outputs": [],
   "source": [
    "train_input, test_input, train_target, test_target = train_test_split(\n",
    "    data.data,\n",
    "    data.target,\n",
    "    test_size=0.2,\n",
    "    random_state=42,\n",
    "    stratify=data.target\n",
    ")"
   ]
  },
  {
   "cell_type": "code",
   "execution_count": 28,
   "id": "9d2c0f12",
   "metadata": {},
   "outputs": [
    {
     "data": {
      "text/html": [
       "<div>\n",
       "<style scoped>\n",
       "    .dataframe tbody tr th:only-of-type {\n",
       "        vertical-align: middle;\n",
       "    }\n",
       "\n",
       "    .dataframe tbody tr th {\n",
       "        vertical-align: top;\n",
       "    }\n",
       "\n",
       "    .dataframe thead th {\n",
       "        text-align: right;\n",
       "    }\n",
       "</style>\n",
       "<table border=\"1\" class=\"dataframe\">\n",
       "  <thead>\n",
       "    <tr style=\"text-align: right;\">\n",
       "      <th></th>\n",
       "      <th>0</th>\n",
       "      <th>1</th>\n",
       "      <th>2</th>\n",
       "    </tr>\n",
       "  </thead>\n",
       "  <tbody>\n",
       "    <tr>\n",
       "      <th>0</th>\n",
       "      <td>10</td>\n",
       "      <td>0</td>\n",
       "      <td>0</td>\n",
       "    </tr>\n",
       "    <tr>\n",
       "      <th>1</th>\n",
       "      <td>0</td>\n",
       "      <td>9</td>\n",
       "      <td>1</td>\n",
       "    </tr>\n",
       "    <tr>\n",
       "      <th>2</th>\n",
       "      <td>0</td>\n",
       "      <td>1</td>\n",
       "      <td>9</td>\n",
       "    </tr>\n",
       "  </tbody>\n",
       "</table>\n",
       "</div>"
      ],
      "text/plain": [
       "    0  1  2\n",
       "0  10  0  0\n",
       "1   0  9  1\n",
       "2   0  1  9"
      ]
     },
     "execution_count": 28,
     "metadata": {},
     "output_type": "execute_result"
    }
   ],
   "source": [
    "dt_clf = DecisionTreeClassifier(random_state=42)\n",
    "\n",
    "dt_clf.fit(train_input, train_target)\n",
    "\n",
    "pred = dt_clf.predict(test_input)\n",
    "\n",
    "pd.DataFrame(confusion_matrix(test_target, pred))"
   ]
  },
  {
   "cell_type": "markdown",
   "id": "b836354d",
   "metadata": {},
   "source": [
    "> UnSupervised Learning"
   ]
  },
  {
   "cell_type": "code",
   "execution_count": 34,
   "id": "24a8f4e2",
   "metadata": {},
   "outputs": [],
   "source": [
    "kmeans_clf = KMeans(n_clusters=3, random_state=42)\n",
    "\n",
    "kmeans_clf.fit(train_input)\n",
    "\n",
    "pred = kmeans_clf.predict(test_input)"
   ]
  },
  {
   "cell_type": "code",
   "execution_count": 35,
   "id": "203c5ab4",
   "metadata": {},
   "outputs": [
    {
     "data": {
      "text/html": [
       "<div>\n",
       "<style scoped>\n",
       "    .dataframe tbody tr th:only-of-type {\n",
       "        vertical-align: middle;\n",
       "    }\n",
       "\n",
       "    .dataframe tbody tr th {\n",
       "        vertical-align: top;\n",
       "    }\n",
       "\n",
       "    .dataframe thead th {\n",
       "        text-align: right;\n",
       "    }\n",
       "</style>\n",
       "<table border=\"1\" class=\"dataframe\">\n",
       "  <thead>\n",
       "    <tr style=\"text-align: right;\">\n",
       "      <th></th>\n",
       "      <th>0</th>\n",
       "      <th>1</th>\n",
       "      <th>2</th>\n",
       "    </tr>\n",
       "  </thead>\n",
       "  <tbody>\n",
       "    <tr>\n",
       "      <th>0</th>\n",
       "      <td>10</td>\n",
       "      <td>0</td>\n",
       "      <td>0</td>\n",
       "    </tr>\n",
       "    <tr>\n",
       "      <th>1</th>\n",
       "      <td>0</td>\n",
       "      <td>9</td>\n",
       "      <td>1</td>\n",
       "    </tr>\n",
       "    <tr>\n",
       "      <th>2</th>\n",
       "      <td>0</td>\n",
       "      <td>2</td>\n",
       "      <td>8</td>\n",
       "    </tr>\n",
       "  </tbody>\n",
       "</table>\n",
       "</div>"
      ],
      "text/plain": [
       "    0  1  2\n",
       "0  10  0  0\n",
       "1   0  9  1\n",
       "2   0  2  8"
      ]
     },
     "execution_count": 35,
     "metadata": {},
     "output_type": "execute_result"
    }
   ],
   "source": [
    "pd.DataFrame(confusion_matrix(test_target, pred))"
   ]
  },
  {
   "cell_type": "markdown",
   "id": "7834f457",
   "metadata": {},
   "source": [
    "> Semi-Supervised_Learning"
   ]
  },
  {
   "cell_type": "code",
   "execution_count": 38,
   "id": "3a1eb0b1",
   "metadata": {},
   "outputs": [
    {
     "data": {
      "text/html": [
       "<div>\n",
       "<style scoped>\n",
       "    .dataframe tbody tr th:only-of-type {\n",
       "        vertical-align: middle;\n",
       "    }\n",
       "\n",
       "    .dataframe tbody tr th {\n",
       "        vertical-align: top;\n",
       "    }\n",
       "\n",
       "    .dataframe thead th {\n",
       "        text-align: right;\n",
       "    }\n",
       "</style>\n",
       "<table border=\"1\" class=\"dataframe\">\n",
       "  <thead>\n",
       "    <tr style=\"text-align: right;\">\n",
       "      <th></th>\n",
       "      <th>0</th>\n",
       "      <th>1</th>\n",
       "      <th>2</th>\n",
       "    </tr>\n",
       "  </thead>\n",
       "  <tbody>\n",
       "    <tr>\n",
       "      <th>0</th>\n",
       "      <td>10</td>\n",
       "      <td>0</td>\n",
       "      <td>0</td>\n",
       "    </tr>\n",
       "    <tr>\n",
       "      <th>1</th>\n",
       "      <td>0</td>\n",
       "      <td>10</td>\n",
       "      <td>0</td>\n",
       "    </tr>\n",
       "    <tr>\n",
       "      <th>2</th>\n",
       "      <td>0</td>\n",
       "      <td>1</td>\n",
       "      <td>9</td>\n",
       "    </tr>\n",
       "  </tbody>\n",
       "</table>\n",
       "</div>"
      ],
      "text/plain": [
       "    0   1  2\n",
       "0  10   0  0\n",
       "1   0  10  0\n",
       "2   0   1  9"
      ]
     },
     "execution_count": 38,
     "metadata": {},
     "output_type": "execute_result"
    }
   ],
   "source": [
    "labels = np.copy(train_target)\n",
    "rand_unlabeled_points = np.random.rand(len(labels)) < 0.5\n",
    "labels[rand_unlabeled_points] = -1\n",
    "\n",
    "lp_clf = LabelSpreading()\n",
    "lp_clf.fit(train_input, labels)\n",
    "\n",
    "pred = lp_clf.predict(test_input)\n",
    "\n",
    "pd.DataFrame(confusion_matrix(test_target, pred))"
   ]
  },
  {
   "cell_type": "markdown",
   "id": "2ac1a596",
   "metadata": {},
   "source": [
    "## 3. Class Imbalanced"
   ]
  },
  {
   "cell_type": "code",
   "execution_count": 45,
   "id": "54fc489d",
   "metadata": {},
   "outputs": [],
   "source": [
    "df = pd.read_csv(os.path.join(os.getcwd(), 'data', 'class_imbalance', 'winequality_for_class_imbalance.csv'), index_col='Unnamed: 0')\n",
    "labels = np.load(os.path.join(os.getcwd(), 'data', 'class_imbalance', 'winequality_for_class_imbalance_label.npy'))"
   ]
  },
  {
   "cell_type": "code",
   "execution_count": 46,
   "id": "1e422d9b",
   "metadata": {},
   "outputs": [
    {
     "data": {
      "text/html": [
       "<div>\n",
       "<style scoped>\n",
       "    .dataframe tbody tr th:only-of-type {\n",
       "        vertical-align: middle;\n",
       "    }\n",
       "\n",
       "    .dataframe tbody tr th {\n",
       "        vertical-align: top;\n",
       "    }\n",
       "\n",
       "    .dataframe thead th {\n",
       "        text-align: right;\n",
       "    }\n",
       "</style>\n",
       "<table border=\"1\" class=\"dataframe\">\n",
       "  <thead>\n",
       "    <tr style=\"text-align: right;\">\n",
       "      <th></th>\n",
       "      <th>fixed acidity</th>\n",
       "      <th>volatile acidity</th>\n",
       "      <th>citric acid</th>\n",
       "      <th>residual sugar</th>\n",
       "      <th>chlorides</th>\n",
       "      <th>free sulfur dioxide</th>\n",
       "      <th>total sulfur dioxide</th>\n",
       "      <th>density</th>\n",
       "      <th>pH</th>\n",
       "      <th>sulphates</th>\n",
       "      <th>alcohol</th>\n",
       "      <th>type_red</th>\n",
       "      <th>type_white</th>\n",
       "    </tr>\n",
       "  </thead>\n",
       "  <tbody>\n",
       "    <tr>\n",
       "      <th>0</th>\n",
       "      <td>-0.165087</td>\n",
       "      <td>-0.440021</td>\n",
       "      <td>0.280208</td>\n",
       "      <td>3.477382</td>\n",
       "      <td>-0.316815</td>\n",
       "      <td>0.838865</td>\n",
       "      <td>0.984149</td>\n",
       "      <td>2.177419</td>\n",
       "      <td>-1.401186</td>\n",
       "      <td>-0.555267</td>\n",
       "      <td>-1.475154</td>\n",
       "      <td>0</td>\n",
       "      <td>1</td>\n",
       "    </tr>\n",
       "    <tr>\n",
       "      <th>1</th>\n",
       "      <td>-0.695163</td>\n",
       "      <td>-0.261684</td>\n",
       "      <td>0.144245</td>\n",
       "      <td>-0.766859</td>\n",
       "      <td>-0.208407</td>\n",
       "      <td>-0.900220</td>\n",
       "      <td>0.314921</td>\n",
       "      <td>-0.180598</td>\n",
       "      <td>0.472180</td>\n",
       "      <td>-0.288309</td>\n",
       "      <td>-0.885144</td>\n",
       "      <td>0</td>\n",
       "      <td>1</td>\n",
       "    </tr>\n",
       "    <tr>\n",
       "      <th>2</th>\n",
       "      <td>0.667890</td>\n",
       "      <td>-0.380575</td>\n",
       "      <td>0.552136</td>\n",
       "      <td>0.410863</td>\n",
       "      <td>-0.181305</td>\n",
       "      <td>-0.002628</td>\n",
       "      <td>-0.301474</td>\n",
       "      <td>0.189947</td>\n",
       "      <td>0.222398</td>\n",
       "      <td>-0.622007</td>\n",
       "      <td>-0.379421</td>\n",
       "      <td>0</td>\n",
       "      <td>1</td>\n",
       "    </tr>\n",
       "    <tr>\n",
       "      <th>3</th>\n",
       "      <td>-0.013636</td>\n",
       "      <td>-0.677803</td>\n",
       "      <td>0.008281</td>\n",
       "      <td>0.766401</td>\n",
       "      <td>0.035512</td>\n",
       "      <td>0.951064</td>\n",
       "      <td>1.265929</td>\n",
       "      <td>0.358377</td>\n",
       "      <td>-0.214721</td>\n",
       "      <td>-0.888964</td>\n",
       "      <td>-0.547996</td>\n",
       "      <td>0</td>\n",
       "      <td>1</td>\n",
       "    </tr>\n",
       "    <tr>\n",
       "      <th>4</th>\n",
       "      <td>-0.770888</td>\n",
       "      <td>-0.142793</td>\n",
       "      <td>-1.079428</td>\n",
       "      <td>0.433084</td>\n",
       "      <td>-0.316815</td>\n",
       "      <td>-0.002628</td>\n",
       "      <td>0.385366</td>\n",
       "      <td>0.122576</td>\n",
       "      <td>-0.277166</td>\n",
       "      <td>-0.421788</td>\n",
       "      <td>-0.800857</td>\n",
       "      <td>0</td>\n",
       "      <td>1</td>\n",
       "    </tr>\n",
       "  </tbody>\n",
       "</table>\n",
       "</div>"
      ],
      "text/plain": [
       "   fixed acidity  volatile acidity  citric acid  ...   alcohol  type_red  type_white\n",
       "0      -0.165087         -0.440021     0.280208  ... -1.475154         0           1\n",
       "1      -0.695163         -0.261684     0.144245  ... -0.885144         0           1\n",
       "2       0.667890         -0.380575     0.552136  ... -0.379421         0           1\n",
       "3      -0.013636         -0.677803     0.008281  ... -0.547996         0           1\n",
       "4      -0.770888         -0.142793    -1.079428  ... -0.800857         0           1\n",
       "\n",
       "[5 rows x 13 columns]"
      ]
     },
     "execution_count": 46,
     "metadata": {},
     "output_type": "execute_result"
    }
   ],
   "source": [
    "df.head()"
   ]
  },
  {
   "cell_type": "code",
   "execution_count": 47,
   "id": "a68e7a52",
   "metadata": {},
   "outputs": [
    {
     "data": {
      "text/plain": [
       "array([3, 3, 3, ..., 2, 2, 3], shape=(5295,))"
      ]
     },
     "execution_count": 47,
     "metadata": {},
     "output_type": "execute_result"
    }
   ],
   "source": [
    "labels"
   ]
  },
  {
   "cell_type": "code",
   "execution_count": 48,
   "id": "3d3ac98e",
   "metadata": {},
   "outputs": [],
   "source": [
    "train_input, test_input, train_target, test_target = train_test_split(\n",
    "    df, labels,\n",
    "    test_size=0.2,\n",
    "    stratify=labels\n",
    ")"
   ]
  },
  {
   "cell_type": "markdown",
   "id": "dce0a3e7",
   "metadata": {},
   "source": [
    "> Over Sapling : SMOTE"
   ]
  },
  {
   "cell_type": "code",
   "execution_count": 49,
   "id": "336d0177",
   "metadata": {},
   "outputs": [],
   "source": [
    "smote = SMOTE(random_state=42, k_neighbors=3)\n",
    "smote_resampled_train_input, smote_resampled_train_target = smote.fit_resample(train_input, train_target)"
   ]
  },
  {
   "cell_type": "code",
   "execution_count": 51,
   "id": "981682c7",
   "metadata": {},
   "outputs": [
    {
     "data": {
      "image/png": "[encoded data removed]",
      "text/plain": [
       "<Figure size 1000x500 with 2 Axes>"
      ]
     },
     "metadata": {},
     "output_type": "display_data"
    }
   ],
   "source": [
    "fig = plt.figure(figsize=(10,5))\n",
    "\n",
    "fig.add_subplot(1,2,1)\n",
    "sns.histplot(train_target)\n",
    "plt.title('Before SMOTE')\n",
    "\n",
    "fig.add_subplot(1,2,2)\n",
    "sns.histplot(smote_resampled_train_target)\n",
    "plt.title('After SMOTE')\n",
    "\n",
    "plt.show()"
   ]
  },
  {
   "cell_type": "markdown",
   "id": "bf672e8c",
   "metadata": {},
   "source": [
    "> Over Sampling : ADASYN"
   ]
  },
  {
   "cell_type": "code",
   "execution_count": 54,
   "id": "c353282c",
   "metadata": {},
   "outputs": [],
   "source": [
    "adasyn = ADASYN(random_state=42, n_neighbors=3)\n",
    "\n",
    "adasyn_resampled_train_input, adasyn_resampled_train_target = adasyn.fit_resample(train_input, train_target)"
   ]
  },
  {
   "cell_type": "code",
   "execution_count": 55,
   "id": "f053a4f6",
   "metadata": {},
   "outputs": [
    {
     "data": {
      "image/png": "[encoded data removed]",
      "text/plain": [
       "<Figure size 1000x500 with 2 Axes>"
      ]
     },
     "metadata": {},
     "output_type": "display_data"
    }
   ],
   "source": [
    "fig = plt.figure(figsize=(10,5))\n",
    "fig.add_subplot(1,2,1)\n",
    "sns.histplot(train_target)\n",
    "plt.title('Before ADASYN')\n",
    "\n",
    "fig.add_subplot(1,2,2)\n",
    "sns.histplot(adasyn_resampled_train_target)\n",
    "plt.title('After ADASYN')\n",
    "\n",
    "plt.show()"
   ]
  },
  {
   "cell_type": "markdown",
   "id": "dc3a5c34",
   "metadata": {},
   "source": [
    "> Under Sampling : Random Under Sampling"
   ]
  },
  {
   "cell_type": "code",
   "execution_count": 67,
   "id": "e94a448e",
   "metadata": {},
   "outputs": [
    {
     "data": {
      "text/plain": [
       "Text(0.5, 1.0, 'After RandomUnderSampler')"
      ]
     },
     "execution_count": 67,
     "metadata": {},
     "output_type": "execute_result"
    },
    {
     "data": {
      "image/png": "[encoded data removed]",
      "text/plain": [
       "<Figure size 1000x500 with 2 Axes>"
      ]
     },
     "metadata": {},
     "output_type": "display_data"
    }
   ],
   "source": [
    "rus = RandomUnderSampler(random_state=42)\n",
    "rus_resampled_train_input, rus_resampled_train_target = rus.fit_resample(train_input, train_target)\n",
    "\n",
    "fig = plt.figure(figsize=(10,5))\n",
    "fig.add_subplot(1,2,1)\n",
    "sns.histplot(train_target)\n",
    "plt.title('Before RandomUnderSampler')\n",
    "\n",
    "fig.add_subplot(1,2,2)\n",
    "sns.histplot(rus_resampled_train_target)\n",
    "plt.title('After RandomUnderSampler')"
   ]
  },
  {
   "cell_type": "markdown",
   "id": "c6f19249",
   "metadata": {},
   "source": [
    "> Under Sampling : TomekLinks"
   ]
  },
  {
   "cell_type": "code",
   "execution_count": 70,
   "id": "a88a1e4b",
   "metadata": {},
   "outputs": [
    {
     "data": {
      "text/plain": [
       "Text(0.5, 1.0, 'After TomekLinks')"
      ]
     },
     "execution_count": 70,
     "metadata": {},
     "output_type": "execute_result"
    },
    {
     "data": {
      "image/png": "[encoded data removed]",
      "text/plain": [
       "<Figure size 1000x500 with 2 Axes>"
      ]
     },
     "metadata": {},
     "output_type": "display_data"
    }
   ],
   "source": [
    "tomek = TomekLinks(sampling_strategy='majority')\n",
    "tomek_resampled_train_input, tomek_resampled_train_target = tomek.fit_resample(train_input, train_target)\n",
    "\n",
    "fig = plt.figure(figsize=(10,5))\n",
    "fig.add_subplot(1,2,1)\n",
    "sns.histplot(train_target)\n",
    "plt.title('Before TomekLinks')\n",
    "\n",
    "fig.add_subplot(1,2,2)\n",
    "sns.histplot(tomek_resampled_train_target)\n",
    "plt.title('After TomekLinks')"
   ]
  },
  {
   "cell_type": "markdown",
   "id": "131e248b",
   "metadata": {},
   "source": [
    "> Under Sampling : EditedNearestNeighbours(ENN)"
   ]
  },
  {
   "cell_type": "code",
   "execution_count": 73,
   "id": "4e13798b",
   "metadata": {},
   "outputs": [
    {
     "data": {
      "text/plain": [
       "Text(0.5, 1.0, 'After EditedNearestNeighbours')"
      ]
     },
     "execution_count": 73,
     "metadata": {},
     "output_type": "execute_result"
    },
    {
     "data": {
      "image/png": "[encoded data removed]",
      "text/plain": [
       "<Figure size 1000x500 with 2 Axes>"
      ]
     },
     "metadata": {},
     "output_type": "display_data"
    }
   ],
   "source": [
    "enn = EditedNearestNeighbours(n_neighbors=3, kind_sel='mode', sampling_strategy='majority')\n",
    "enn_resampled_train_input, enn_resampled_train_target = enn.fit_resample(train_input, train_target)\n",
    "\n",
    "fig = plt.figure(figsize=(10,5))\n",
    "fig.add_subplot(1,2,1)\n",
    "sns.histplot(train_target)\n",
    "plt.title('Before EditedNearestNeighbours')\n",
    "\n",
    "fig.add_subplot(1,2,2)\n",
    "sns.histplot(enn_resampled_train_target)\n",
    "plt.title('After EditedNearestNeighbours')"
   ]
  },
  {
   "cell_type": "markdown",
   "id": "530b9d64",
   "metadata": {},
   "source": [
    "> Combine Samling : SMOTEENN"
   ]
  },
  {
   "cell_type": "code",
   "execution_count": 79,
   "id": "c2b468f1",
   "metadata": {},
   "outputs": [
    {
     "data": {
      "text/plain": [
       "Text(0.5, 1.0, 'After SMOTEENN')"
      ]
     },
     "execution_count": 79,
     "metadata": {},
     "output_type": "execute_result"
    },
    {
     "data": {
      "image/png": "[encoded data removed]",
      "text/plain": [
       "<Figure size 1000x500 with 2 Axes>"
      ]
     },
     "metadata": {},
     "output_type": "display_data"
    }
   ],
   "source": [
    "smote = SMOTE(random_state=42, k_neighbors=3)\n",
    "enn = EditedNearestNeighbours(n_neighbors=3, kind_sel='mode', sampling_strategy='majority')\n",
    "smote_enn = SMOTEENN(random_state=42, smote=smote, enn=enn)\n",
    "smote_enn_resampled_train_input, smote_enn_resampled_train_target = smote_enn.fit_resample(train_input, train_target)\n",
    "\n",
    "fig = plt.figure(figsize=(10,5))\n",
    "fig.add_subplot(1,2,1)\n",
    "sns.histplot(train_target)\n",
    "plt.title('Before SMOTEENN')\n",
    "\n",
    "fig.add_subplot(1,2,2)\n",
    "sns.histplot(smote_enn_resampled_train_target)\n",
    "plt.title('After SMOTEENN')"
   ]
  },
  {
   "cell_type": "code",
   "execution_count": 80,
   "id": "86dc1d8a",
   "metadata": {},
   "outputs": [
    {
     "data": {
      "text/plain": [
       "Text(0.5, 1.0, 'After SMOTETomek')"
      ]
     },
     "execution_count": 80,
     "metadata": {},
     "output_type": "execute_result"
    },
    {
     "data": {
      "image/png": "[encoded data removed]",
      "text/plain": [
       "<Figure size 1000x500 with 2 Axes>"
      ]
     },
     "metadata": {},
     "output_type": "display_data"
    }
   ],
   "source": [
    "smote = SMOTE(random_state=42, k_neighbors=3)\n",
    "tomek = TomekLinks(sampling_strategy='majority')\n",
    "smote_tomek = SMOTETomek(random_state=42, smote=smote, tomek=tomek)\n",
    "\n",
    "smote_tomek_resampled_train_input, smote_tomek_resampled_train_target = smote_tomek.fit_resample(train_input, train_target)\n",
    "\n",
    "fig = plt.figure(figsize=(10,5))\n",
    "fig.add_subplot(1,2,1)\n",
    "sns.histplot(train_target)\n",
    "plt.title('Before SMOTETomek')\n",
    "\n",
    "fig.add_subplot(1,2,2)\n",
    "sns.histplot(smote_tomek_resampled_train_target)\n",
    "plt.title('After SMOTETomek')"
   ]
  },
  {
   "cell_type": "code",
   "execution_count": null,
   "id": "30749e3b",
   "metadata": {},
   "outputs": [],
   "source": []
  }
 ],
 "metadata": {
  "kernelspec": {
   "display_name": "mlops",
   "language": "python",
   "name": "python3"
  },
  "language_info": {
   "codemirror_mode": {
    "name": "ipython",
    "version": 3
   },
   "file_extension": ".py",
   "mimetype": "text/x-python",
   "name": "python",
   "nbconvert_exporter": "python",
   "pygments_lexer": "ipython3",
   "version": "3.10.18"
  }
 },
 "nbformat": 4,
 "nbformat_minor": 5
}
