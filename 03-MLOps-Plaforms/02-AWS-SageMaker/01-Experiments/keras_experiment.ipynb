{
 "cells": [
  {
   "cell_type": "code",
   "execution_count": 1,
   "id": "b2e64f9a-74b2-459f-a398-21f1597790c0",
   "metadata": {
    "execution": {
     "iopub.execute_input": "2025-08-21T03:09:48.802311Z",
     "iopub.status.busy": "2025-08-21T03:09:48.801799Z",
     "iopub.status.idle": "2025-08-21T03:10:00.990627Z",
     "shell.execute_reply": "2025-08-21T03:10:00.988919Z",
     "shell.execute_reply.started": "2025-08-21T03:09:48.802285Z"
    }
   },
   "outputs": [],
   "source": [
    "!pip install --upgrade pip -q\n",
    "!pip install --upgrade boto3 -q\n",
    "!pip install --upgrade sagemaker -q\n",
    "!pip install --upgrade tensorflow -q\n",
    "!pip install protobuf -q"
   ]
  },
  {
   "cell_type": "code",
   "execution_count": 2,
   "id": "8c28e931-4222-433d-be6d-9d636256b063",
   "metadata": {
    "execution": {
     "iopub.execute_input": "2025-08-21T03:10:00.996452Z",
     "iopub.status.busy": "2025-08-21T03:10:00.993174Z",
     "iopub.status.idle": "2025-08-21T03:10:21.729290Z",
     "shell.execute_reply": "2025-08-21T03:10:21.728217Z",
     "shell.execute_reply.started": "2025-08-21T03:10:00.996413Z"
    }
   },
   "outputs": [
    {
     "name": "stdout",
     "output_type": "stream",
     "text": [
      "sagemaker.config INFO - Not applying SDK defaults from location: /etc/xdg/sagemaker/config.yaml\n",
      "sagemaker.config INFO - Not applying SDK defaults from location: /home/sagemaker-user/.config/sagemaker/config.yaml\n"
     ]
    },
    {
     "name": "stderr",
     "output_type": "stream",
     "text": [
      "2025-08-21 03:10:12.629732: I external/local_xla/xla/tsl/cuda/cudart_stub.cc:31] Could not find cuda drivers on your machine, GPU will not be used.\n",
      "2025-08-21 03:10:14.384141: I tensorflow/core/platform/cpu_feature_guard.cc:210] This TensorFlow binary is optimized to use available CPU instructions in performance-critical operations.\n",
      "To enable the following instructions: AVX2 AVX512F FMA, in other operations, rebuild TensorFlow with the appropriate compiler flags.\n",
      "2025-08-21 03:10:18.642384: I external/local_xla/xla/tsl/cuda/cudart_stub.cc:31] Could not find cuda drivers on your machine, GPU will not be used.\n"
     ]
    }
   ],
   "source": [
    "import boto3\n",
    "import sagemaker\n",
    "\n",
    "from sagemaker.session import Session\n",
    "from sagemaker import get_execution_role\n",
    "from sagemaker.experiments.run import Run\n",
    "\n",
    "import json\n",
    "\n",
    "import os\n",
    "import numpy as np\n",
    "import pandas as pd\n",
    "from tensorflow import keras\n",
    "from tensorflow.keras import layers"
   ]
  },
  {
   "cell_type": "code",
   "execution_count": 3,
   "id": "167058a6-efb1-44cf-ae71-4854b75878ba",
   "metadata": {
    "execution": {
     "iopub.execute_input": "2025-08-21T03:10:21.731475Z",
     "iopub.status.busy": "2025-08-21T03:10:21.730702Z",
     "iopub.status.idle": "2025-08-21T03:10:22.954411Z",
     "shell.execute_reply": "2025-08-21T03:10:22.953002Z",
     "shell.execute_reply.started": "2025-08-21T03:10:21.731439Z"
    }
   },
   "outputs": [],
   "source": [
    "boto_session = boto3.Session()\n",
    "bucket_name = \"mlflow-tracking-dir\"\n",
    "sagemaker_session = Session(default_bucket=bucket_name)\n",
    "\n",
    "role = get_execution_role()\n",
    "default_bucket = sagemaker_session.default_bucket()\n",
    "\n",
    "sagemaker_client = boto_session.client(\"sagemaker\")\n",
    "region = boto_session.region_name"
   ]
  },
  {
   "cell_type": "code",
   "execution_count": 4,
   "id": "044b243a-ca0c-4680-a1a4-35cb26bbf3c2",
   "metadata": {
    "execution": {
     "iopub.execute_input": "2025-08-21T03:10:22.960782Z",
     "iopub.status.busy": "2025-08-21T03:10:22.956404Z",
     "iopub.status.idle": "2025-08-21T03:10:22.978510Z",
     "shell.execute_reply": "2025-08-21T03:10:22.977411Z",
     "shell.execute_reply.started": "2025-08-21T03:10:22.960736Z"
    }
   },
   "outputs": [
    {
     "name": "stdout",
     "output_type": "stream",
     "text": [
      "Session(region_name='ap-southeast-2')\n",
      "<sagemaker.session.Session object at 0x7f50a5ebcf80>\n",
      "arn:aws:iam::954690186719:role/service-role/AmazonSageMaker-ExecutionRole-20250821T100350\n",
      "mlflow-tracking-dir\n",
      "<botocore.client.SageMaker object at 0x7f5057e58080>\n",
      "ap-southeast-2\n"
     ]
    }
   ],
   "source": [
    "print(boto_session)\n",
    "print(sagemaker_session)\n",
    "print(role) # 해당 Role을 활용해 SageMaker 실행 및 S3 접근\n",
    "print(default_bucket) # log를 저장할 s3 bucket\n",
    "print(sagemaker_client)\n",
    "print(region)"
   ]
  },
  {
   "cell_type": "code",
   "execution_count": 5,
   "id": "9db27ebe-2ba7-4c6f-9db5-869462eb41a6",
   "metadata": {
    "execution": {
     "iopub.execute_input": "2025-08-21T03:10:22.980388Z",
     "iopub.status.busy": "2025-08-21T03:10:22.979860Z",
     "iopub.status.idle": "2025-08-21T03:10:23.920588Z",
     "shell.execute_reply": "2025-08-21T03:10:23.919504Z",
     "shell.execute_reply.started": "2025-08-21T03:10:22.980355Z"
    }
   },
   "outputs": [],
   "source": [
    "s3_client = boto3.client(\"s3\")\n",
    "\n",
    "train_input_path = os.path.join('datasets', 'train_input.npy')\n",
    "test_input_path = os.path.join('datasets', 'test_input.npy')\n",
    "train_target_path = os.path.join('datasets', 'train_target.npy')\n",
    "test_target_path = os.path.join('datasets', 'test_target.npy')\n",
    "\n",
    "s3_client.download_file(\n",
    "    f'sagemaker-example-files-prod-{region}',\n",
    "    os.path.join('datasets', 'image', 'MNIST', 'numpy', 'input_train.npy'),\n",
    "    train_input_path\n",
    ")\n",
    "\n",
    "s3_client.download_file(\n",
    "    f'sagemaker-example-files-prod-{region}',\n",
    "    os.path.join('datasets', 'image', 'MNIST', 'numpy', 'input_test.npy'),\n",
    "    test_input_path\n",
    ")\n",
    "\n",
    "s3_client.download_file(\n",
    "    f'sagemaker-example-files-prod-{region}',\n",
    "    os.path.join('datasets', 'image', 'MNIST', 'numpy', 'input_train_labels.npy'),\n",
    "    train_target_path\n",
    ")\n",
    "\n",
    "s3_client.download_file(\n",
    "    f'sagemaker-example-files-prod-{region}',\n",
    "    os.path.join('datasets', 'image', 'MNIST', 'numpy', 'input_test_labels.npy'),\n",
    "    test_target_path\n",
    ")"
   ]
  },
  {
   "cell_type": "code",
   "execution_count": 6,
   "id": "64123f44-1628-454e-8113-6e59ad2073c5",
   "metadata": {
    "execution": {
     "iopub.execute_input": "2025-08-21T03:10:23.922234Z",
     "iopub.status.busy": "2025-08-21T03:10:23.921749Z",
     "iopub.status.idle": "2025-08-21T03:10:23.954527Z",
     "shell.execute_reply": "2025-08-21T03:10:23.953381Z",
     "shell.execute_reply.started": "2025-08-21T03:10:23.922189Z"
    }
   },
   "outputs": [],
   "source": [
    "train_input = np.load(train_input_path)\n",
    "test_input = np.load(test_input_path)\n",
    "train_target = np.load(train_target_path)\n",
    "test_target = np.load(test_target_path)"
   ]
  },
  {
   "cell_type": "code",
   "execution_count": 7,
   "id": "b5c2f5cf-0ae7-4f07-90ba-a5d4d35850a6",
   "metadata": {
    "execution": {
     "iopub.execute_input": "2025-08-21T03:10:23.956368Z",
     "iopub.status.busy": "2025-08-21T03:10:23.955823Z",
     "iopub.status.idle": "2025-08-21T03:10:23.962778Z",
     "shell.execute_reply": "2025-08-21T03:10:23.961987Z",
     "shell.execute_reply.started": "2025-08-21T03:10:23.956334Z"
    }
   },
   "outputs": [],
   "source": [
    "train_input = np.reshape(train_input, (60000, 28, 28))\n",
    "test_input = np.reshape(test_input, (10000, 28, 28))\n",
    "train_target = np.reshape(train_target, (60000,))\n",
    "test_target = np.reshape(test_target, (10000,))"
   ]
  },
  {
   "cell_type": "code",
   "execution_count": 8,
   "id": "725fbecc-befc-4512-b084-8a91df98f646",
   "metadata": {
    "execution": {
     "iopub.execute_input": "2025-08-21T03:10:23.964285Z",
     "iopub.status.busy": "2025-08-21T03:10:23.963822Z",
     "iopub.status.idle": "2025-08-21T03:10:24.314052Z",
     "shell.execute_reply": "2025-08-21T03:10:24.312755Z",
     "shell.execute_reply.started": "2025-08-21T03:10:23.964256Z"
    }
   },
   "outputs": [],
   "source": [
    "train_input = train_input.astype(\"float32\") / 255\n",
    "test_input = test_input.astype(\"float32\") / 255"
   ]
  },
  {
   "cell_type": "code",
   "execution_count": 9,
   "id": "a3fa73c0-789e-4d1e-bb8d-4c720ce3bbe3",
   "metadata": {
    "execution": {
     "iopub.execute_input": "2025-08-21T03:10:24.315654Z",
     "iopub.status.busy": "2025-08-21T03:10:24.315309Z",
     "iopub.status.idle": "2025-08-21T03:10:24.320075Z",
     "shell.execute_reply": "2025-08-21T03:10:24.318649Z",
     "shell.execute_reply.started": "2025-08-21T03:10:24.315622Z"
    }
   },
   "outputs": [],
   "source": [
    "train_input = np.expand_dims(train_input, -1)\n",
    "test_input = np.expand_dims(test_input, -1)"
   ]
  },
  {
   "cell_type": "code",
   "execution_count": 10,
   "id": "235d2bb9-7ce8-40ea-89e6-08793333ef4f",
   "metadata": {
    "execution": {
     "iopub.execute_input": "2025-08-21T03:10:24.323134Z",
     "iopub.status.busy": "2025-08-21T03:10:24.322701Z",
     "iopub.status.idle": "2025-08-21T03:10:24.328444Z",
     "shell.execute_reply": "2025-08-21T03:10:24.327740Z",
     "shell.execute_reply.started": "2025-08-21T03:10:24.323103Z"
    }
   },
   "outputs": [
    {
     "name": "stdout",
     "output_type": "stream",
     "text": [
      "Train Inpu Shape : (60000, 28, 28, 1) \n",
      "60000 train samples \n",
      "10000 test samples\n"
     ]
    }
   ],
   "source": [
    "print(\n",
    "    f\"Train Inpu Shape : {train_input.shape}\",\n",
    "    f\"\\n{train_input.shape[0]} train samples\",\n",
    "    f\"\\n{test_input.shape[0]} test samples\"\n",
    ")"
   ]
  },
  {
   "cell_type": "code",
   "execution_count": 11,
   "id": "cd010667-ee1c-42df-baa0-9d7cd54a822a",
   "metadata": {
    "execution": {
     "iopub.execute_input": "2025-08-21T03:10:24.329704Z",
     "iopub.status.busy": "2025-08-21T03:10:24.329231Z",
     "iopub.status.idle": "2025-08-21T03:10:24.338141Z",
     "shell.execute_reply": "2025-08-21T03:10:24.337394Z",
     "shell.execute_reply.started": "2025-08-21T03:10:24.329672Z"
    }
   },
   "outputs": [],
   "source": [
    "num_classes = 10\n",
    "\n",
    "train_target = keras.utils.to_categorical(train_target, num_classes)\n",
    "test_target = keras.utils.to_categorical(test_target, num_classes)"
   ]
  },
  {
   "cell_type": "code",
   "execution_count": 12,
   "id": "69c44b60-d2d0-49e6-ac56-495e7ec03194",
   "metadata": {
    "execution": {
     "iopub.execute_input": "2025-08-21T03:10:24.339875Z",
     "iopub.status.busy": "2025-08-21T03:10:24.339510Z",
     "iopub.status.idle": "2025-08-21T03:10:24.344539Z",
     "shell.execute_reply": "2025-08-21T03:10:24.343519Z",
     "shell.execute_reply.started": "2025-08-21T03:10:24.339841Z"
    }
   },
   "outputs": [],
   "source": [
    "input_shape = (28,28,1)"
   ]
  },
  {
   "cell_type": "code",
   "execution_count": 13,
   "id": "1c27ecac-46e6-423d-b429-e84dcfe5a5d6",
   "metadata": {
    "execution": {
     "iopub.execute_input": "2025-08-21T03:10:24.345745Z",
     "iopub.status.busy": "2025-08-21T03:10:24.345508Z",
     "iopub.status.idle": "2025-08-21T03:10:24.350788Z",
     "shell.execute_reply": "2025-08-21T03:10:24.349903Z",
     "shell.execute_reply.started": "2025-08-21T03:10:24.345726Z"
    }
   },
   "outputs": [],
   "source": [
    "def get_model(dropout=0.5):\n",
    "    model = keras.Sequential(\n",
    "        [\n",
    "            keras.Input(shape=input_shape),\n",
    "            layers.Conv2D(32, kernel_size=(3, 3), activation='relu'),\n",
    "            layers.MaxPool2D(pool_size=(2, 2)),\n",
    "            layers.Conv2D(64, kernel_size=(3, 3), activation='relu'),\n",
    "            layers.MaxPool2D(pool_size=(2, 2)),\n",
    "            layers.Flatten(),\n",
    "            layers.Dropout(dropout),\n",
    "            layers.Dense(num_classes, activation=\"softmax\")\n",
    "        ]\n",
    "    )\n",
    "\n",
    "    model.compile(loss=\"categorical_crossentropy\", optimizer=\"adam\", metrics=[\"accuracy\"])\n",
    "\n",
    "    return model"
   ]
  },
  {
   "cell_type": "code",
   "execution_count": 14,
   "id": "1926bfde-1b58-4c37-82da-dbc28d18b0af",
   "metadata": {
    "execution": {
     "iopub.execute_input": "2025-08-21T03:10:24.352655Z",
     "iopub.status.busy": "2025-08-21T03:10:24.352050Z",
     "iopub.status.idle": "2025-08-21T03:10:24.456991Z",
     "shell.execute_reply": "2025-08-21T03:10:24.456060Z",
     "shell.execute_reply.started": "2025-08-21T03:10:24.352542Z"
    }
   },
   "outputs": [
    {
     "name": "stderr",
     "output_type": "stream",
     "text": [
      "2025-08-21 03:10:24.366282: E external/local_xla/xla/stream_executor/cuda/cuda_platform.cc:51] failed call to cuInit: INTERNAL: CUDA error: Failed call to cuInit: UNKNOWN ERROR (303)\n"
     ]
    }
   ],
   "source": [
    "PARAMETERS = {\n",
    "    'batch_size' : 256,\n",
    "    'epochs' : 5,\n",
    "    'dropout' : 0.5\n",
    "}\n",
    "\n",
    "model = get_model(PARAMETERS['dropout'])"
   ]
  },
  {
   "cell_type": "code",
   "execution_count": 15,
   "id": "8a37b434-3cfa-4f86-9508-4e9a35fe9cd3",
   "metadata": {
    "execution": {
     "iopub.execute_input": "2025-08-21T03:10:24.459124Z",
     "iopub.status.busy": "2025-08-21T03:10:24.457912Z",
     "iopub.status.idle": "2025-08-21T03:10:24.464071Z",
     "shell.execute_reply": "2025-08-21T03:10:24.463280Z",
     "shell.execute_reply.started": "2025-08-21T03:10:24.458918Z"
    }
   },
   "outputs": [],
   "source": [
    "class ExperimentCallback(keras.callbacks.Callback):\n",
    "    def __init__(self, run, model, test_input, test_target):\n",
    "        self.run = run\n",
    "        self.test_input = test_input\n",
    "        self.test_target = test_target\n",
    "\n",
    "    def on_epoch_end(self, epoch, logs=None):\n",
    "        keys = list(logs.keys())\n",
    "        for key in keys:\n",
    "            self.run.log_metric(name=key, value=logs[key], step=epoch)\n",
    "            print(f\"{key} -> {logs[key]}\")"
   ]
  },
  {
   "cell_type": "code",
   "execution_count": 16,
   "id": "e650ca49-8181-49f4-ac18-c666a9ad583f",
   "metadata": {
    "execution": {
     "iopub.execute_input": "2025-08-21T03:10:24.465582Z",
     "iopub.status.busy": "2025-08-21T03:10:24.465211Z",
     "iopub.status.idle": "2025-08-21T03:13:35.199827Z",
     "shell.execute_reply": "2025-08-21T03:13:35.199254Z",
     "shell.execute_reply.started": "2025-08-21T03:10:24.465555Z"
    }
   },
   "outputs": [
    {
     "name": "stdout",
     "output_type": "stream",
     "text": [
      "Epoch 1/5\n"
     ]
    },
    {
     "name": "stderr",
     "output_type": "stream",
     "text": [
      "2025-08-21 03:10:26.219185: W external/local_xla/xla/tsl/framework/cpu_allocator_impl.cc:84] Allocation of 169344000 exceeds 10% of free system memory.\n"
     ]
    },
    {
     "name": "stdout",
     "output_type": "stream",
     "text": [
      "\u001b[1m211/211\u001b[0m \u001b[32m━━━━━━━━━━━━━━━━━━━━\u001b[0m\u001b[37m\u001b[0m \u001b[1m0s\u001b[0m 135ms/step - accuracy: 0.6800 - loss: 1.0154accuracy -> 0.8435184955596924\n",
      "loss -> 0.5130194425582886\n",
      "val_accuracy -> 0.9729999899864197\n",
      "val_loss -> 0.10410809516906738\n",
      "\u001b[1m211/211\u001b[0m \u001b[32m━━━━━━━━━━━━━━━━━━━━\u001b[0m\u001b[37m\u001b[0m \u001b[1m31s\u001b[0m 143ms/step - accuracy: 0.6808 - loss: 1.0131 - val_accuracy: 0.9730 - val_loss: 0.1041\n",
      "Epoch 2/5\n",
      "\u001b[1m211/211\u001b[0m \u001b[32m━━━━━━━━━━━━━━━━━━━━\u001b[0m\u001b[37m\u001b[0m \u001b[1m0s\u001b[0m 142ms/step - accuracy: 0.9513 - loss: 0.1591accuracy -> 0.9568703770637512\n",
      "loss -> 0.14031855762004852\n",
      "val_accuracy -> 0.981166660785675\n",
      "val_loss -> 0.07154268771409988\n",
      "\u001b[1m211/211\u001b[0m \u001b[32m━━━━━━━━━━━━━━━━━━━━\u001b[0m\u001b[37m\u001b[0m \u001b[1m31s\u001b[0m 148ms/step - accuracy: 0.9514 - loss: 0.1591 - val_accuracy: 0.9812 - val_loss: 0.0715\n",
      "Epoch 3/5\n",
      "\u001b[1m211/211\u001b[0m \u001b[32m━━━━━━━━━━━━━━━━━━━━\u001b[0m\u001b[37m\u001b[0m \u001b[1m0s\u001b[0m 145ms/step - accuracy: 0.9673 - loss: 0.1083accuracy -> 0.9683148264884949\n",
      "loss -> 0.10398832708597183\n",
      "val_accuracy -> 0.98416668176651\n",
      "val_loss -> 0.05915220081806183\n",
      "\u001b[1m211/211\u001b[0m \u001b[32m━━━━━━━━━━━━━━━━━━━━\u001b[0m\u001b[37m\u001b[0m \u001b[1m42s\u001b[0m 153ms/step - accuracy: 0.9673 - loss: 0.1083 - val_accuracy: 0.9842 - val_loss: 0.0592\n",
      "Epoch 4/5\n",
      "\u001b[1m211/211\u001b[0m \u001b[32m━━━━━━━━━━━━━━━━━━━━\u001b[0m\u001b[37m\u001b[0m \u001b[1m0s\u001b[0m 132ms/step - accuracy: 0.9721 - loss: 0.0894accuracy -> 0.9728518724441528\n",
      "loss -> 0.08705747127532959\n",
      "val_accuracy -> 0.9865000247955322\n",
      "val_loss -> 0.05177174508571625\n",
      "\u001b[1m211/211\u001b[0m \u001b[32m━━━━━━━━━━━━━━━━━━━━\u001b[0m\u001b[37m\u001b[0m \u001b[1m38s\u001b[0m 138ms/step - accuracy: 0.9721 - loss: 0.0894 - val_accuracy: 0.9865 - val_loss: 0.0518\n",
      "Epoch 5/5\n",
      "\u001b[1m211/211\u001b[0m \u001b[32m━━━━━━━━━━━━━━━━━━━━\u001b[0m\u001b[37m\u001b[0m \u001b[1m0s\u001b[0m 144ms/step - accuracy: 0.9762 - loss: 0.0775accuracy -> 0.9765185117721558\n",
      "loss -> 0.07609808444976807\n",
      "val_accuracy -> 0.9863333106040955\n",
      "val_loss -> 0.04866202175617218\n",
      "\u001b[1m211/211\u001b[0m \u001b[32m━━━━━━━━━━━━━━━━━━━━\u001b[0m\u001b[37m\u001b[0m \u001b[1m32s\u001b[0m 152ms/step - accuracy: 0.9762 - loss: 0.0775 - val_accuracy: 0.9863 - val_loss: 0.0487\n",
      "\u001b[1m313/313\u001b[0m \u001b[32m━━━━━━━━━━━━━━━━━━━━\u001b[0m\u001b[37m\u001b[0m \u001b[1m3s\u001b[0m 8ms/step - accuracy: 0.9826 - loss: 0.0523\n",
      "Test Loss : 0.04357994720339775 \n",
      "Test Accuracy : 0.9858999848365784\n"
     ]
    }
   ],
   "source": [
    "experiment_name = \"keras-experiment-lab\"\n",
    "\n",
    "with Run(\n",
    "    experiment_name=experiment_name,\n",
    "    sagemaker_session=sagemaker_session\n",
    ") as run:\n",
    "\n",
    "    run.log_parameter('BatchSize', PARAMETERS['batch_size'])\n",
    "    run.log_parameter('Epochs', PARAMETERS['epochs'])\n",
    "    run.log_parameter('Dropout', PARAMETERS['dropout'])\n",
    "\n",
    "    run.log_file(train_input_path, is_output=False)\n",
    "    run.log_file(test_input_path, is_output=False)\n",
    "    run.log_file(train_target_path, is_output=False)\n",
    "    run.log_file(test_target_path, is_output=False)\n",
    "\n",
    "    model.fit(\n",
    "        train_input,\n",
    "        train_target,\n",
    "        batch_size=PARAMETERS['batch_size'],\n",
    "        epochs=PARAMETERS['epochs'],\n",
    "        validation_split=0.1,\n",
    "        callbacks=[ExperimentCallback(run, model, test_input, test_target)]\n",
    "    )\n",
    "\n",
    "    score = model.evaluate(test_input, test_target)\n",
    "\n",
    "    print(\n",
    "        f\"Test Loss : {score[0]}\",\n",
    "        f\"\\nTest Accuracy : {score[1]}\"\n",
    "    )\n",
    "\n",
    "    run.log_metric(name=\"TestLoss(CorssEntropy)\", value=score[0])\n",
    "    run.log_metric(name=\"TestAccuracy\", value=score[1])"
   ]
  },
  {
   "cell_type": "code",
   "execution_count": null,
   "id": "ebb7ce93-f1dc-4fb3-bce0-474a02548531",
   "metadata": {},
   "outputs": [],
   "source": []
  }
 ],
 "metadata": {
  "kernelspec": {
   "display_name": "Python 3 (ipykernel)",
   "language": "python",
   "name": "python3"
  },
  "language_info": {
   "codemirror_mode": {
    "name": "ipython",
    "version": 3
   },
   "file_extension": ".py",
   "mimetype": "text/x-python",
   "name": "python",
   "nbconvert_exporter": "python",
   "pygments_lexer": "ipython3",
   "version": "3.12.9"
  }
 },
 "nbformat": 4,
 "nbformat_minor": 5
}
