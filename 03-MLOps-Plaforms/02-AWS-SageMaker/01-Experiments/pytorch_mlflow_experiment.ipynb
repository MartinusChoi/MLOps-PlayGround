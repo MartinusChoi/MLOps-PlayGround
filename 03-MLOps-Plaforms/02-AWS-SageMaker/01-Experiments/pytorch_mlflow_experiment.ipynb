{
 "cells": [
  {
   "cell_type": "code",
   "execution_count": 51,
   "id": "0d680e2b-d2c7-405f-b6ab-5c25ebbae95d",
   "metadata": {
    "execution": {
     "iopub.execute_input": "2025-08-21T07:00:15.576560Z",
     "iopub.status.busy": "2025-08-21T07:00:15.576272Z",
     "iopub.status.idle": "2025-08-21T07:00:15.581049Z",
     "shell.execute_reply": "2025-08-21T07:00:15.579944Z",
     "shell.execute_reply.started": "2025-08-21T07:00:15.576540Z"
    }
   },
   "outputs": [],
   "source": [
    "import os\n",
    "from tqdm.notebook import tqdm\n",
    "import sys\n",
    "import logging\n",
    "import matplotlib.pyplot as plt\n",
    "\n",
    "import mlflow\n",
    "\n",
    "import torch\n",
    "from torchvision import datasets, transforms\n",
    "\n",
    "from sagemaker.session import Session"
   ]
  },
  {
   "cell_type": "code",
   "execution_count": 10,
   "id": "be9df97f-7e2b-416a-8527-94f1b8a32c67",
   "metadata": {
    "execution": {
     "iopub.execute_input": "2025-08-21T06:49:05.144602Z",
     "iopub.status.busy": "2025-08-21T06:49:05.143889Z",
     "iopub.status.idle": "2025-08-21T06:49:05.152073Z",
     "shell.execute_reply": "2025-08-21T06:49:05.150801Z",
     "shell.execute_reply.started": "2025-08-21T06:49:05.144569Z"
    }
   },
   "outputs": [],
   "source": [
    "logger = logging.getLogger(__name__)\n",
    "logger.setLevel(logging.DEBUG)\n",
    "logger.addHandler(logging.StreamHandler(sys.stdout))"
   ]
  },
  {
   "cell_type": "code",
   "execution_count": 18,
   "id": "a7924f21-8da3-43d7-ab22-84c1f0c43e2e",
   "metadata": {
    "execution": {
     "iopub.execute_input": "2025-08-21T06:53:01.513298Z",
     "iopub.status.busy": "2025-08-21T06:53:01.511920Z",
     "iopub.status.idle": "2025-08-21T06:53:01.570647Z",
     "shell.execute_reply": "2025-08-21T06:53:01.558901Z",
     "shell.execute_reply.started": "2025-08-21T06:53:01.513256Z"
    }
   },
   "outputs": [],
   "source": [
    "mlflow.set_tracking_uri(\"arn:aws:sagemaker:ap-southeast-2:954690186719:mlflow-tracking-server/SageMaker-Experiment-Lab\")"
   ]
  },
  {
   "cell_type": "code",
   "execution_count": 11,
   "id": "d265a948-97f8-437f-98f3-b1efb8c1f477",
   "metadata": {
    "execution": {
     "iopub.execute_input": "2025-08-21T06:49:05.715905Z",
     "iopub.status.busy": "2025-08-21T06:49:05.715421Z",
     "iopub.status.idle": "2025-08-21T06:49:05.721321Z",
     "shell.execute_reply": "2025-08-21T06:49:05.718422Z",
     "shell.execute_reply.started": "2025-08-21T06:49:05.715872Z"
    }
   },
   "outputs": [],
   "source": [
    "experiment_name = \"pytorch-mlflow-experiment-lab\"\n",
    "run_name = \"pytorch-exp-1\""
   ]
  },
  {
   "cell_type": "code",
   "execution_count": 12,
   "id": "6f547d7f-d4a1-4e98-bda6-104d16c022d4",
   "metadata": {
    "execution": {
     "iopub.execute_input": "2025-08-21T06:49:06.282878Z",
     "iopub.status.busy": "2025-08-21T06:49:06.282517Z",
     "iopub.status.idle": "2025-08-21T06:49:07.744925Z",
     "shell.execute_reply": "2025-08-21T06:49:07.744177Z",
     "shell.execute_reply.started": "2025-08-21T06:49:06.282855Z"
    }
   },
   "outputs": [],
   "source": [
    "datasets.MNIST.urls = [\n",
    "    f\"https://sagemaker-example-files-prod-{Session().boto_region_name}.s3.amazonaws.com/datasets/image/MNIST/train-images-idx3-ubyte.gz\",\n",
    "    f\"https://sagemaker-example-files-prod-{Session().boto_region_name}.s3.amazonaws.com/datasets/image/MNIST/train-labels-idx1-ubyte.gz\",\n",
    "    f\"https://sagemaker-example-files-prod-{Session().boto_region_name}.s3.amazonaws.com/datasets/image/MNIST/t10k-images-idx3-ubyte.gz\",\n",
    "    f\"https://sagemaker-example-files-prod-{Session().boto_region_name}.s3.amazonaws.com/datasets/image/MNIST/t10k-labels-idx1-ubyte.gz\"\n",
    "]\n",
    "\n",
    "train_set = datasets.MNIST(\n",
    "    \"mnist_data\",\n",
    "    train=True,\n",
    "    transform=transforms.Compose(\n",
    "        [\n",
    "            transforms.ToTensor(),\n",
    "            transforms.Normalize((0.1307,), (0.3081))\n",
    "        ]\n",
    "    ),\n",
    "    download=True\n",
    ")\n",
    "\n",
    "test_set = datasets.MNIST(\n",
    "    \"mnist_data\",\n",
    "    train=False,\n",
    "    transform=transforms.Compose(\n",
    "        [\n",
    "            transforms.ToTensor(),\n",
    "            transforms.Normalize((0.1307,), (0.3081))\n",
    "        ]\n",
    "    ),\n",
    "    download=True\n",
    ")"
   ]
  },
  {
   "cell_type": "code",
   "execution_count": 38,
   "id": "a243328e-5c48-424c-920e-002026e8ae04",
   "metadata": {
    "execution": {
     "iopub.execute_input": "2025-08-21T06:57:05.530500Z",
     "iopub.status.busy": "2025-08-21T06:57:05.529790Z",
     "iopub.status.idle": "2025-08-21T06:57:05.542836Z",
     "shell.execute_reply": "2025-08-21T06:57:05.539687Z",
     "shell.execute_reply.started": "2025-08-21T06:57:05.530469Z"
    }
   },
   "outputs": [],
   "source": [
    "class MnistClassifier(torch.nn.Module):\n",
    "    def __init__(self, hidden_channels, kernel_size, drop_out):\n",
    "        super(MnistClassifier, self).__init__()\n",
    "        self.conv1 = torch.nn.Conv2d(1, hidden_channels, kernel_size = kernel_size)\n",
    "        self.conv2 = torch.nn.Conv2d(hidden_channels, 20, kernel_size = kernel_size)\n",
    "        self.conv2_drop = torch.nn.Dropout2d(p=drop_out)\n",
    "        self.fc1 = torch.nn.Linear(320, 50)\n",
    "        self.fc2 = torch.nn.Linear(50, 10)\n",
    "\n",
    "    def forward(self, x):\n",
    "        x = torch.nn.functional.relu(torch.nn.functional.max_pool2d(self.conv1(x), 2))\n",
    "        x = torch.nn.functional.relu(\n",
    "            torch.nn.functional.max_pool2d(self.conv2_drop(self.conv2(x)), 2)\n",
    "        )\n",
    "        x = x.view(-1, 320)\n",
    "        x = torch.nn.functional.relu(self.fc1(x))\n",
    "        x = torch.nn.functional.dropout(x, training=self.training)\n",
    "        output = torch.nn.functional.log_softmax(self.fc2(x), dim=1)\n",
    "\n",
    "        return output\n",
    "        "
   ]
  },
  {
   "cell_type": "code",
   "execution_count": 58,
   "id": "fb021b62-72cf-4e6c-b437-39ad35c7a714",
   "metadata": {
    "execution": {
     "iopub.execute_input": "2025-08-21T07:05:24.784070Z",
     "iopub.status.busy": "2025-08-21T07:05:24.783720Z",
     "iopub.status.idle": "2025-08-21T07:05:24.792571Z",
     "shell.execute_reply": "2025-08-21T07:05:24.791138Z",
     "shell.execute_reply.started": "2025-08-21T07:05:24.784046Z"
    }
   },
   "outputs": [],
   "source": [
    "def log_performance(model, data_loader, device, epoch, metric_type=\"Test\"):\n",
    "    model.eval()\n",
    "    loss = 0\n",
    "    correct = 0\n",
    "\n",
    "    with torch.no_grad():\n",
    "        for data, target in tqdm(data_loader, total=len(data_loader), desc=f\"Log {metric_type} Performance (epoch {epoch}) \"):\n",
    "            data, target = data.to(device), target.to(device)\n",
    "            output = model(data)\n",
    "            loss += torch.nn.functional.nll_loss(\n",
    "                output, target, reduction=\"sum\"\n",
    "            ).item()\n",
    "\n",
    "            pred = output.max(1, keepdim=True)[1]\n",
    "            correct += pred.eq(target.view_as(pred)).sum().item()\n",
    "        loss /= len(data_loader.dataset)\n",
    "        accuracy = 100.0 * correct / len(data_loader.dataset)\n",
    "\n",
    "        mlflow.log_metric(f\"{metric_type}_loss\", loss, step=epoch)\n",
    "        mlflow.log_metric(f\"{metric_type}_accuracy\", accuracy, step=epoch)"
   ]
  },
  {
   "cell_type": "code",
   "execution_count": 59,
   "id": "78662a7f-c09d-49cb-9762-2aaa9e3f9839",
   "metadata": {
    "execution": {
     "iopub.execute_input": "2025-08-21T07:05:25.038731Z",
     "iopub.status.busy": "2025-08-21T07:05:25.038103Z",
     "iopub.status.idle": "2025-08-21T07:05:25.075071Z",
     "shell.execute_reply": "2025-08-21T07:05:25.068818Z",
     "shell.execute_reply.started": "2025-08-21T07:05:25.038700Z"
    }
   },
   "outputs": [],
   "source": [
    "def train_model(\n",
    "    train_set, test_set, param_set, experiment_name, run_name, data_dir=\"mnist_data\", optimizer=\"sgd\"\n",
    "):\n",
    "    mlflow.set_experiment(experiment_name)\n",
    "    \n",
    "    with mlflow.start_run(run_name=run_name) as run:\n",
    "        mlflow.pytorch.autolog()\n",
    "\n",
    "        mlflow.log_param('BatchSize', param_set['batch_size'])\n",
    "        mlflow.log_param('HiddenChannels', param_set['hidden_channels'])\n",
    "        mlflow.log_param('KernelSize', param_set['kernel_size'])\n",
    "        mlflow.log_param('Dropout', param_set['dropout'])\n",
    "        mlflow.log_param('Momentum', param_set['momentum'])\n",
    "        mlflow.log_param('LearningRate', param_set['lr'])\n",
    "        mlflow.log_param('Epochs', param_set['epochs'])\n",
    "        mlflow.log_param('Optimizer', optimizer)\n",
    "        \n",
    "        device = torch.device(\"cpu\")\n",
    "    \n",
    "        torch.manual_seed(42)\n",
    "    \n",
    "        train_loader = torch.utils.data.DataLoader(train_set, batch_size=param_set['batch_size'], shuffle=True)\n",
    "        test_loader = torch.utils.data.DataLoader(test_set, batch_size=1000, shuffle=True)\n",
    "    \n",
    "        model = MnistClassifier(param_set['hidden_channels'], kernel_size=param_set['kernel_size'], drop_out=param_set['dropout']).to(device)\n",
    "        model = torch.nn.DataParallel(model)\n",
    "    \n",
    "        log_interval = 100\n",
    "    \n",
    "        if optimizer == 'sgd': optimizer = torch.optim.SGD(model.parameters(), lr=param_set['lr'], momentum=param_set['momentum'])\n",
    "        else : optimizer = torch.optim.Adam(model.parameters(), lr=param_set['lr'])\n",
    "    \n",
    "        for epoch in range(1, param_set['epochs']+1):\n",
    "            model.train()\n",
    "            for batch_idx, (data, target) in tqdm(enumerate(train_loader, start=1), desc=f\"Training Epoch > {epoch} \", total=len(train_loader)):\n",
    "                data, target = data.to(device), target.to(device)\n",
    "                \n",
    "                optimizer.zero_grad()\n",
    "                \n",
    "                output = model(data)\n",
    "                \n",
    "                loss = torch.nn.functional.nll_loss(output, target)\n",
    "                \n",
    "                loss.backward()\n",
    "                \n",
    "                optimizer.step()\n",
    "\n",
    "            log_performance(model, train_loader, device, epoch, \"Train\")\n",
    "            log_performance(model, test_loader, device, epoch, \"Test\")\n",
    "\n",
    "        with torch.no_grad():\n",
    "            for data, target in tqdm(test_loader, desc=f\"Testing\"):\n",
    "                data, target = data.to(device), target.to(device)\n",
    "                output = model(data)\n",
    "                pred = output.max(1, keepdim=True)[1]"
   ]
  },
  {
   "cell_type": "code",
   "execution_count": 60,
   "id": "560b9ed9-89c4-4083-8b3f-ade4f741d3f2",
   "metadata": {
    "execution": {
     "iopub.execute_input": "2025-08-21T07:05:26.465334Z",
     "iopub.status.busy": "2025-08-21T07:05:26.464972Z",
     "iopub.status.idle": "2025-08-21T07:05:26.469441Z",
     "shell.execute_reply": "2025-08-21T07:05:26.468535Z",
     "shell.execute_reply.started": "2025-08-21T07:05:26.465306Z"
    }
   },
   "outputs": [],
   "source": [
    "PARAM_SET = {\n",
    "    'batch_size' : 64,\n",
    "    'hidden_channels' : 10,\n",
    "    'kernel_size' : 5,\n",
    "    'dropout' : 0.5,\n",
    "    'lr' : 0.01,\n",
    "    'momentum' : 0.1,\n",
    "    'epochs' : 10,\n",
    "}"
   ]
  },
  {
   "cell_type": "code",
   "execution_count": null,
   "id": "6ed0972d-acd7-4d87-bb77-444417dc3d47",
   "metadata": {
    "execution": {
     "iopub.execute_input": "2025-08-21T07:05:27.220735Z",
     "iopub.status.busy": "2025-08-21T07:05:27.220234Z"
    }
   },
   "outputs": [
    {
     "data": {
      "application/vnd.jupyter.widget-view+json": {
       "model_id": "9f3fcc8d68c148109c13897429997061",
       "version_major": 2,
       "version_minor": 0
      },
      "text/plain": [
       "Training Epoch > 1 :   0%|          | 0/938 [00:00<?, ?it/s]"
      ]
     },
     "metadata": {},
     "output_type": "display_data"
    },
    {
     "data": {
      "application/vnd.jupyter.widget-view+json": {
       "model_id": "51a6c31bf48648218bd67beed594f898",
       "version_major": 2,
       "version_minor": 0
      },
      "text/plain": [
       "Log Train Performance (epoch 1) :   0%|          | 0/938 [00:00<?, ?it/s]"
      ]
     },
     "metadata": {},
     "output_type": "display_data"
    },
    {
     "data": {
      "application/vnd.jupyter.widget-view+json": {
       "model_id": "ea156bebd2e24371abc9241866246fb7",
       "version_major": 2,
       "version_minor": 0
      },
      "text/plain": [
       "Log Test Performance (epoch 1) :   0%|          | 0/10 [00:00<?, ?it/s]"
      ]
     },
     "metadata": {},
     "output_type": "display_data"
    },
    {
     "data": {
      "application/vnd.jupyter.widget-view+json": {
       "model_id": "9f59c320fa964a06b4866d71fa615666",
       "version_major": 2,
       "version_minor": 0
      },
      "text/plain": [
       "Training Epoch > 2 :   0%|          | 0/938 [00:00<?, ?it/s]"
      ]
     },
     "metadata": {},
     "output_type": "display_data"
    },
    {
     "data": {
      "application/vnd.jupyter.widget-view+json": {
       "model_id": "6bd10af0575642489a53f07fd91566f0",
       "version_major": 2,
       "version_minor": 0
      },
      "text/plain": [
       "Log Train Performance (epoch 2) :   0%|          | 0/938 [00:00<?, ?it/s]"
      ]
     },
     "metadata": {},
     "output_type": "display_data"
    },
    {
     "data": {
      "application/vnd.jupyter.widget-view+json": {
       "model_id": "a510e4bc27a24da0930f0cc3726e5564",
       "version_major": 2,
       "version_minor": 0
      },
      "text/plain": [
       "Log Test Performance (epoch 2) :   0%|          | 0/10 [00:00<?, ?it/s]"
      ]
     },
     "metadata": {},
     "output_type": "display_data"
    },
    {
     "data": {
      "application/vnd.jupyter.widget-view+json": {
       "model_id": "08d79f8f92604099a4bf50293fc6d861",
       "version_major": 2,
       "version_minor": 0
      },
      "text/plain": [
       "Training Epoch > 3 :   0%|          | 0/938 [00:00<?, ?it/s]"
      ]
     },
     "metadata": {},
     "output_type": "display_data"
    },
    {
     "data": {
      "application/vnd.jupyter.widget-view+json": {
       "model_id": "d24f034375d2466abc1a927d541c9e41",
       "version_major": 2,
       "version_minor": 0
      },
      "text/plain": [
       "Log Train Performance (epoch 3) :   0%|          | 0/938 [00:00<?, ?it/s]"
      ]
     },
     "metadata": {},
     "output_type": "display_data"
    },
    {
     "data": {
      "application/vnd.jupyter.widget-view+json": {
       "model_id": "5c83eabac9ea45978c1d8d4d6f57e0fe",
       "version_major": 2,
       "version_minor": 0
      },
      "text/plain": [
       "Log Test Performance (epoch 3) :   0%|          | 0/10 [00:00<?, ?it/s]"
      ]
     },
     "metadata": {},
     "output_type": "display_data"
    },
    {
     "data": {
      "application/vnd.jupyter.widget-view+json": {
       "model_id": "b3fe3d120ecf4ad9896c6cde45505049",
       "version_major": 2,
       "version_minor": 0
      },
      "text/plain": [
       "Training Epoch > 4 :   0%|          | 0/938 [00:00<?, ?it/s]"
      ]
     },
     "metadata": {},
     "output_type": "display_data"
    },
    {
     "data": {
      "application/vnd.jupyter.widget-view+json": {
       "model_id": "5dbd89d7212646b0b9f58b86daab158e",
       "version_major": 2,
       "version_minor": 0
      },
      "text/plain": [
       "Log Train Performance (epoch 4) :   0%|          | 0/938 [00:00<?, ?it/s]"
      ]
     },
     "metadata": {},
     "output_type": "display_data"
    },
    {
     "data": {
      "application/vnd.jupyter.widget-view+json": {
       "model_id": "8cdfabea00d447a9ad8d3eb2bb2429bc",
       "version_major": 2,
       "version_minor": 0
      },
      "text/plain": [
       "Log Test Performance (epoch 4) :   0%|          | 0/10 [00:00<?, ?it/s]"
      ]
     },
     "metadata": {},
     "output_type": "display_data"
    },
    {
     "data": {
      "application/vnd.jupyter.widget-view+json": {
       "model_id": "d135292be71448c2bb791a2d4578a27f",
       "version_major": 2,
       "version_minor": 0
      },
      "text/plain": [
       "Training Epoch > 5 :   0%|          | 0/938 [00:00<?, ?it/s]"
      ]
     },
     "metadata": {},
     "output_type": "display_data"
    },
    {
     "data": {
      "application/vnd.jupyter.widget-view+json": {
       "model_id": "6414c41729be4650b502052b53067456",
       "version_major": 2,
       "version_minor": 0
      },
      "text/plain": [
       "Log Train Performance (epoch 5) :   0%|          | 0/938 [00:00<?, ?it/s]"
      ]
     },
     "metadata": {},
     "output_type": "display_data"
    },
    {
     "data": {
      "application/vnd.jupyter.widget-view+json": {
       "model_id": "b72d4e0154d14a4cbb1a91d5d29cede3",
       "version_major": 2,
       "version_minor": 0
      },
      "text/plain": [
       "Log Test Performance (epoch 5) :   0%|          | 0/10 [00:00<?, ?it/s]"
      ]
     },
     "metadata": {},
     "output_type": "display_data"
    },
    {
     "data": {
      "application/vnd.jupyter.widget-view+json": {
       "model_id": "cc0476359c744d3d96061eeccbfbc2b3",
       "version_major": 2,
       "version_minor": 0
      },
      "text/plain": [
       "Training Epoch > 6 :   0%|          | 0/938 [00:00<?, ?it/s]"
      ]
     },
     "metadata": {},
     "output_type": "display_data"
    },
    {
     "data": {
      "application/vnd.jupyter.widget-view+json": {
       "model_id": "d4307a2910764a068cf2454a4671c947",
       "version_major": 2,
       "version_minor": 0
      },
      "text/plain": [
       "Log Train Performance (epoch 6) :   0%|          | 0/938 [00:00<?, ?it/s]"
      ]
     },
     "metadata": {},
     "output_type": "display_data"
    },
    {
     "data": {
      "application/vnd.jupyter.widget-view+json": {
       "model_id": "06b15168d68d4342a975e15731bb272a",
       "version_major": 2,
       "version_minor": 0
      },
      "text/plain": [
       "Log Test Performance (epoch 6) :   0%|          | 0/10 [00:00<?, ?it/s]"
      ]
     },
     "metadata": {},
     "output_type": "display_data"
    },
    {
     "data": {
      "application/vnd.jupyter.widget-view+json": {
       "model_id": "bbc240f0f8fd4bafaad05a623e5c8155",
       "version_major": 2,
       "version_minor": 0
      },
      "text/plain": [
       "Training Epoch > 7 :   0%|          | 0/938 [00:00<?, ?it/s]"
      ]
     },
     "metadata": {},
     "output_type": "display_data"
    },
    {
     "data": {
      "application/vnd.jupyter.widget-view+json": {
       "model_id": "cadc356e84b44adbb52715155f53cfc2",
       "version_major": 2,
       "version_minor": 0
      },
      "text/plain": [
       "Log Train Performance (epoch 7) :   0%|          | 0/938 [00:00<?, ?it/s]"
      ]
     },
     "metadata": {},
     "output_type": "display_data"
    },
    {
     "data": {
      "application/vnd.jupyter.widget-view+json": {
       "model_id": "aca9a4d352194fe4981b3738128a6494",
       "version_major": 2,
       "version_minor": 0
      },
      "text/plain": [
       "Log Test Performance (epoch 7) :   0%|          | 0/10 [00:00<?, ?it/s]"
      ]
     },
     "metadata": {},
     "output_type": "display_data"
    },
    {
     "data": {
      "application/vnd.jupyter.widget-view+json": {
       "model_id": "1d9afce19c444b788c553ea056613b66",
       "version_major": 2,
       "version_minor": 0
      },
      "text/plain": [
       "Training Epoch > 8 :   0%|          | 0/938 [00:00<?, ?it/s]"
      ]
     },
     "metadata": {},
     "output_type": "display_data"
    },
    {
     "data": {
      "application/vnd.jupyter.widget-view+json": {
       "model_id": "c5e295fa16874a8f8b5b5e3816016f81",
       "version_major": 2,
       "version_minor": 0
      },
      "text/plain": [
       "Log Train Performance (epoch 8) :   0%|          | 0/938 [00:00<?, ?it/s]"
      ]
     },
     "metadata": {},
     "output_type": "display_data"
    },
    {
     "data": {
      "application/vnd.jupyter.widget-view+json": {
       "model_id": "f741fae3eb8d417f99af7ca84470e103",
       "version_major": 2,
       "version_minor": 0
      },
      "text/plain": [
       "Log Test Performance (epoch 8) :   0%|          | 0/10 [00:00<?, ?it/s]"
      ]
     },
     "metadata": {},
     "output_type": "display_data"
    },
    {
     "data": {
      "application/vnd.jupyter.widget-view+json": {
       "model_id": "75006445bd7c4b8a8ae916fd0f0a10b4",
       "version_major": 2,
       "version_minor": 0
      },
      "text/plain": [
       "Training Epoch > 9 :   0%|          | 0/938 [00:00<?, ?it/s]"
      ]
     },
     "metadata": {},
     "output_type": "display_data"
    },
    {
     "data": {
      "application/vnd.jupyter.widget-view+json": {
       "model_id": "343110afa39243db9c62ad060ecadce5",
       "version_major": 2,
       "version_minor": 0
      },
      "text/plain": [
       "Log Train Performance (epoch 9) :   0%|          | 0/938 [00:00<?, ?it/s]"
      ]
     },
     "metadata": {},
     "output_type": "display_data"
    },
    {
     "data": {
      "application/vnd.jupyter.widget-view+json": {
       "model_id": "cc62e24ebb114dd39e0bf8a68957783d",
       "version_major": 2,
       "version_minor": 0
      },
      "text/plain": [
       "Log Test Performance (epoch 9) :   0%|          | 0/10 [00:00<?, ?it/s]"
      ]
     },
     "metadata": {},
     "output_type": "display_data"
    },
    {
     "data": {
      "application/vnd.jupyter.widget-view+json": {
       "model_id": "964200a18aaf40829289b48b5aad1a54",
       "version_major": 2,
       "version_minor": 0
      },
      "text/plain": [
       "Training Epoch > 10 :   0%|          | 0/938 [00:00<?, ?it/s]"
      ]
     },
     "metadata": {},
     "output_type": "display_data"
    },
    {
     "data": {
      "application/vnd.jupyter.widget-view+json": {
       "model_id": "5bf8a8c9e0c148f582c02b121bc13071",
       "version_major": 2,
       "version_minor": 0
      },
      "text/plain": [
       "Log Train Performance (epoch 10) :   0%|          | 0/938 [00:00<?, ?it/s]"
      ]
     },
     "metadata": {},
     "output_type": "display_data"
    },
    {
     "data": {
      "application/vnd.jupyter.widget-view+json": {
       "model_id": "b592590292b1484290c3b343c64afa3d",
       "version_major": 2,
       "version_minor": 0
      },
      "text/plain": [
       "Log Test Performance (epoch 10) :   0%|          | 0/10 [00:00<?, ?it/s]"
      ]
     },
     "metadata": {},
     "output_type": "display_data"
    },
    {
     "data": {
      "application/vnd.jupyter.widget-view+json": {
       "model_id": "90a25eb499104479b8970cbc63c1e797",
       "version_major": 2,
       "version_minor": 0
      },
      "text/plain": [
       "Testing:   0%|          | 0/10 [00:00<?, ?it/s]"
      ]
     },
     "metadata": {},
     "output_type": "display_data"
    }
   ],
   "source": [
    "train_model(\n",
    "    train_set = train_set,\n",
    "    test_set = test_set,\n",
    "    param_set = PARAM_SET,\n",
    "    experiment_name = experiment_name,\n",
    "    run_name = run_name\n",
    ")"
   ]
  },
  {
   "cell_type": "code",
   "execution_count": null,
   "id": "c3196e5b-3828-4b6c-92ca-7804fffcf469",
   "metadata": {},
   "outputs": [],
   "source": []
  }
 ],
 "metadata": {
  "kernelspec": {
   "display_name": "Python 3 (ipykernel)",
   "language": "python",
   "name": "python3"
  },
  "language_info": {
   "codemirror_mode": {
    "name": "ipython",
    "version": 3
   },
   "file_extension": ".py",
   "mimetype": "text/x-python",
   "name": "python",
   "nbconvert_exporter": "python",
   "pygments_lexer": "ipython3",
   "version": "3.12.9"
  }
 },
 "nbformat": 4,
 "nbformat_minor": 5
}
