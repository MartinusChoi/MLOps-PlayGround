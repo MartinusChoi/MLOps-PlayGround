{
 "cells": [
  {
   "cell_type": "markdown",
   "id": "135a79fe",
   "metadata": {},
   "source": [
    "# Import"
   ]
  },
  {
   "cell_type": "code",
   "execution_count": 12,
   "id": "a76ed1dc",
   "metadata": {
    "execution": {
     "iopub.execute_input": "2025-08-24T14:51:12.026027Z",
     "iopub.status.busy": "2025-08-24T14:51:12.025725Z",
     "iopub.status.idle": "2025-08-24T14:51:20.800839Z",
     "shell.execute_reply": "2025-08-24T14:51:20.800000Z",
     "shell.execute_reply.started": "2025-08-24T14:51:12.026002Z"
    }
   },
   "outputs": [
    {
     "data": {
      "text/plain": [
       "0"
      ]
     },
     "execution_count": 12,
     "metadata": {},
     "output_type": "execute_result"
    }
   ],
   "source": [
    "import os\n",
    "\n",
    "os.system(\"pip install --upgrade -q pip\")\n",
    "os.system(\"pip install --upgrade -q sagemaker\")\n",
    "os.system(\"pip install --upgrade -q boto3\")\n",
    "os.system(\"pip install -q mlflow\")\n",
    "os.system(\"pip install -q sagemaker-mlflow\")"
   ]
  },
  {
   "cell_type": "code",
   "execution_count": 13,
   "id": "08a0c4f0-1f2e-4007-995b-17f1d846d3a2",
   "metadata": {
    "execution": {
     "iopub.execute_input": "2025-08-24T14:51:20.802318Z",
     "iopub.status.busy": "2025-08-24T14:51:20.801983Z",
     "iopub.status.idle": "2025-08-24T14:51:20.806783Z",
     "shell.execute_reply": "2025-08-24T14:51:20.805967Z",
     "shell.execute_reply.started": "2025-08-24T14:51:20.802287Z"
    }
   },
   "outputs": [],
   "source": [
    "import boto3\n",
    "import sagemaker\n",
    "from sagemaker.session import Session\n",
    "from sagemaker import get_execution_role\n",
    "\n",
    "from sagemaker.sklearn.estimator import SKLearn\n",
    "from sagemaker.tuner import IntegerParameter, HyperparameterTuner"
   ]
  },
  {
   "cell_type": "markdown",
   "id": "bfca28b5",
   "metadata": {},
   "source": [
    "# SageMaker Setting"
   ]
  },
  {
   "cell_type": "code",
   "execution_count": 14,
   "id": "9fc5ecff",
   "metadata": {
    "execution": {
     "iopub.execute_input": "2025-08-24T14:51:20.808002Z",
     "iopub.status.busy": "2025-08-24T14:51:20.807679Z",
     "iopub.status.idle": "2025-08-24T14:51:21.505279Z",
     "shell.execute_reply": "2025-08-24T14:51:21.504545Z",
     "shell.execute_reply.started": "2025-08-24T14:51:20.807974Z"
    }
   },
   "outputs": [],
   "source": [
    "boto_session = boto3.Session(region_name='ap-southeast-2')\n",
    "sagemaker_session = Session(default_bucket=\"mlflow-artifacts-dir\", boto_session=boto_session)\n",
    "role = get_execution_role()\n",
    "s3_client = boto3.client(\"s3\")"
   ]
  },
  {
   "cell_type": "markdown",
   "id": "cdbdb2d7",
   "metadata": {},
   "source": [
    "# Define Estimator"
   ]
  },
  {
   "cell_type": "code",
   "execution_count": 23,
   "id": "b4fe8bcb-2edb-4b3d-8798-e042f22cd0da",
   "metadata": {
    "execution": {
     "iopub.execute_input": "2025-08-24T15:08:11.054838Z",
     "iopub.status.busy": "2025-08-24T15:08:11.054567Z",
     "iopub.status.idle": "2025-08-24T15:08:11.087839Z",
     "shell.execute_reply": "2025-08-24T15:08:11.087173Z",
     "shell.execute_reply.started": "2025-08-24T15:08:11.054818Z"
    }
   },
   "outputs": [],
   "source": [
    "estimator = SKLearn(\n",
    "    entry_point='train.py',\n",
    "    source_dir='./script/',\n",
    "    role=role,\n",
    "    framework_version='1.2-1',\n",
    "    py_version='py3',\n",
    "    instance_type='ml.m5.xlarge',\n",
    "    instance_count=1,\n",
    "    model_dir='/opt/ml/model/',\n",
    "    hyperparameters={\n",
    "        'n_estimators' : 200,\n",
    "        'max_depth' : 7,\n",
    "        'max_features' : 10\n",
    "    },\n",
    "    sagemaker_session=sagemaker_session\n",
    ")"
   ]
  },
  {
   "cell_type": "markdown",
   "id": "82d883b1-096b-4dd8-944a-77650e5d2f30",
   "metadata": {},
   "source": [
    "# Define Tuner"
   ]
  },
  {
   "cell_type": "code",
   "execution_count": 26,
   "id": "851fe95b-1250-4a5f-8d12-cdd02a87ef1a",
   "metadata": {
    "execution": {
     "iopub.execute_input": "2025-08-24T15:14:12.822068Z",
     "iopub.status.busy": "2025-08-24T15:14:12.821787Z",
     "iopub.status.idle": "2025-08-24T15:14:12.829272Z",
     "shell.execute_reply": "2025-08-24T15:14:12.828574Z",
     "shell.execute_reply.started": "2025-08-24T15:14:12.822046Z"
    }
   },
   "outputs": [],
   "source": [
    "tuner = HyperparameterTuner(\n",
    "    estimator=estimator,\n",
    "    objective_metric_name='test accuracy',\n",
    "    objective_type='Maximize',\n",
    "    max_jobs=30,\n",
    "    max_parallel_jobs=3,\n",
    "    hyperparameter_ranges={\n",
    "        'n_estimators' : IntegerParameter(100, 300),\n",
    "        'max_depth' : IntegerParameter(3, 9),\n",
    "        'max_features' : IntegerParameter(3, 10)\n",
    "    },\n",
    "    metric_definitions=[\n",
    "        {\n",
    "            \"Name\": \"test accuracy\",\n",
    "            \"Regex\": \"Test Accuracy: ([0-9\\\\.]+)\",\n",
    "        }\n",
    "    ]\n",
    ")"
   ]
  },
  {
   "cell_type": "code",
   "execution_count": 27,
   "id": "223ebe11-a78f-4a35-b69f-690bec0d66c6",
   "metadata": {
    "execution": {
     "iopub.execute_input": "2025-08-24T15:14:23.218337Z",
     "iopub.status.busy": "2025-08-24T15:14:23.218034Z",
     "iopub.status.idle": "2025-08-24T15:14:23.223983Z",
     "shell.execute_reply": "2025-08-24T15:14:23.223092Z",
     "shell.execute_reply.started": "2025-08-24T15:14:23.218314Z"
    }
   },
   "outputs": [],
   "source": [
    "from sklearn.datasets import load_iris\n",
    "from sklearn.model_selection import train_test_split\n",
    "import pandas as pd\n",
    "\n",
    "def upload_data(sagemaker_session, local_data_dir='./data/'):\n",
    "    data = load_iris()\n",
    "\n",
    "    input_data = pd.DataFrame(data.data, columns=data.feature_names)\n",
    "    target_data = pd.Series(data.target)\n",
    "\n",
    "    train_input, test_input, train_target, test_target = train_test_split(\n",
    "        input_data, target_data,\n",
    "        test_size=0.2,\n",
    "        random_state=42\n",
    "    )\n",
    "\n",
    "    train_input, test_input = pd.DataFrame(train_input, columns=data.feature_names), pd.DataFrame(test_input, columns=data.feature_names)\n",
    "    train_target, test_target = pd.Series(train_target), pd.Series(test_target)\n",
    "\n",
    "    train_input.to_csv(os.path.join(local_data_dir, 'train_input.csv'), index=False)\n",
    "    test_input.to_csv(os.path.join(local_data_dir, 'test_input.csv'), index=False)\n",
    "    train_target.to_csv(os.path.join(local_data_dir, 'train_target.csv'), index=False)\n",
    "    test_target.to_csv(os.path.join(local_data_dir, 'test_target.csv'), index=False)\n",
    "\n",
    "    prefix = 'iris'\n",
    "    loc = sagemaker_session.upload_data(path=local_data_dir, bucket=sagemaker_session.default_bucket(), key_prefix=prefix)\n",
    "\n",
    "    return loc"
   ]
  },
  {
   "cell_type": "code",
   "execution_count": 28,
   "id": "bdbe6cef-2d92-49a7-8715-dbc542a969be",
   "metadata": {
    "execution": {
     "iopub.execute_input": "2025-08-24T15:14:23.789136Z",
     "iopub.status.busy": "2025-08-24T15:14:23.788710Z",
     "iopub.status.idle": "2025-08-24T15:14:25.123322Z",
     "shell.execute_reply": "2025-08-24T15:14:25.122710Z",
     "shell.execute_reply.started": "2025-08-24T15:14:23.789101Z"
    }
   },
   "outputs": [
    {
     "data": {
      "text/plain": [
       "'s3://mlflow-artifacts-dir/iris'"
      ]
     },
     "execution_count": 28,
     "metadata": {},
     "output_type": "execute_result"
    }
   ],
   "source": [
    "loc = upload_data(sagemaker_session)\n",
    "\n",
    "loc"
   ]
  },
  {
   "cell_type": "code",
   "execution_count": 29,
   "id": "651f5c30-71e5-4345-86ba-b2e0883537df",
   "metadata": {
    "execution": {
     "iopub.execute_input": "2025-08-24T15:14:28.124025Z",
     "iopub.status.busy": "2025-08-24T15:14:28.123730Z",
     "iopub.status.idle": "2025-08-24T15:14:28.127473Z",
     "shell.execute_reply": "2025-08-24T15:14:28.126616Z",
     "shell.execute_reply.started": "2025-08-24T15:14:28.124004Z"
    }
   },
   "outputs": [],
   "source": [
    "channels={\n",
    "    \"training\" : loc,\n",
    "    \"testing\" : loc\n",
    "}"
   ]
  },
  {
   "cell_type": "code",
   "execution_count": null,
   "id": "ea2ba117-bfcd-45c2-8d4e-99319440ee71",
   "metadata": {
    "execution": {
     "iopub.execute_input": "2025-08-24T15:14:28.768332Z",
     "iopub.status.busy": "2025-08-24T15:14:28.768003Z"
    }
   },
   "outputs": [
    {
     "name": "stderr",
     "output_type": "stream",
     "text": [
      "INFO:sagemaker:Creating hyperparameter tuning job with name: sagemaker-scikit-lea-250824-1514\n"
     ]
    },
    {
     "name": "stdout",
     "output_type": "stream",
     "text": [
      "...."
     ]
    }
   ],
   "source": [
    "tuner.fit(inputs=channels)"
   ]
  },
  {
   "cell_type": "code",
   "execution_count": null,
   "id": "4763085a-dfdb-4872-ac98-588afcae6f24",
   "metadata": {},
   "outputs": [],
   "source": []
  }
 ],
 "metadata": {
  "kernelspec": {
   "display_name": "Python 3 (ipykernel)",
   "language": "python",
   "name": "python3"
  },
  "language_info": {
   "codemirror_mode": {
    "name": "ipython",
    "version": 3
   },
   "file_extension": ".py",
   "mimetype": "text/x-python",
   "name": "python",
   "nbconvert_exporter": "python",
   "pygments_lexer": "ipython3",
   "version": "3.12.9"
  }
 },
 "nbformat": 4,
 "nbformat_minor": 5
}
