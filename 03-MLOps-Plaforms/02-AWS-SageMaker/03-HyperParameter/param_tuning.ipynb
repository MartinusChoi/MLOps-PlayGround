{
 "cells": [
  {
   "cell_type": "markdown",
   "id": "f5af2565-21ff-44c0-833c-33d51261ae72",
   "metadata": {
    "jp-MarkdownHeadingCollapsed": true
   },
   "source": [
    "# Import"
   ]
  },
  {
   "cell_type": "code",
   "execution_count": 1,
   "id": "8862e321-a97f-46a7-ae27-77ccae03d68e",
   "metadata": {
    "execution": {
     "iopub.execute_input": "2025-08-25T01:43:44.298284Z",
     "iopub.status.busy": "2025-08-25T01:43:44.298014Z",
     "iopub.status.idle": "2025-08-25T01:43:59.646821Z",
     "shell.execute_reply": "2025-08-25T01:43:59.646098Z",
     "shell.execute_reply.started": "2025-08-25T01:43:44.298263Z"
    }
   },
   "outputs": [
    {
     "name": "stderr",
     "output_type": "stream",
     "text": [
      "\u001b[31mERROR: pip's dependency resolver does not currently take into account all the packages that are installed. This behaviour is the source of the following dependency conflicts.\n",
      "autogluon-multimodal 1.3.1 requires nvidia-ml-py3<8.0,>=7.352.0, which is not installed.\n",
      "aiobotocore 2.21.1 requires botocore<1.37.2,>=1.37.0, but you have botocore 1.40.16 which is incompatible.\n",
      "autogluon-multimodal 1.3.1 requires nltk<3.9,>=3.4.5, but you have nltk 3.9.1 which is incompatible.\n",
      "autogluon-multimodal 1.3.1 requires transformers[sentencepiece]<4.50,>=4.38.0, but you have transformers 4.53.1 which is incompatible.\n",
      "autogluon-timeseries 1.3.1 requires transformers[sentencepiece]<4.50,>=4.38.0, but you have transformers 4.53.1 which is incompatible.\n",
      "sagemaker-studio-analytics-extension 0.2.0 requires sparkmagic==0.22.0, but you have sparkmagic 0.21.0 which is incompatible.\n",
      "sparkmagic 0.21.0 requires pandas<2.0.0,>=0.17.1, but you have pandas 2.2.3 which is incompatible.\u001b[0m\u001b[31m\n",
      "\u001b[0m"
     ]
    },
    {
     "data": {
      "text/plain": [
       "0"
      ]
     },
     "execution_count": 1,
     "metadata": {},
     "output_type": "execute_result"
    }
   ],
   "source": [
    "import os\n",
    "\n",
    "os.system(\"pip install --upgrade -q pip\")\n",
    "os.system(\"pip install --upgrade -q sagemaker\")\n",
    "os.system(\"pip install --upgrade -q boto3\")\n",
    "os.system(\"pip install -q mlflow\")\n",
    "os.system(\"pip install -q sagemaker-mlflow\")"
   ]
  },
  {
   "cell_type": "code",
   "execution_count": 45,
   "id": "a1d6fa4d-0499-46cf-b4f0-124cbf052535",
   "metadata": {
    "execution": {
     "iopub.execute_input": "2025-08-25T05:48:42.751619Z",
     "iopub.status.busy": "2025-08-25T05:48:42.750946Z",
     "iopub.status.idle": "2025-08-25T05:48:42.755326Z",
     "shell.execute_reply": "2025-08-25T05:48:42.754517Z",
     "shell.execute_reply.started": "2025-08-25T05:48:42.751584Z"
    }
   },
   "outputs": [],
   "source": [
    "import boto3\n",
    "import sagemaker\n",
    "from sagemaker.session import Session\n",
    "from sagemaker import get_execution_role\n",
    "\n",
    "from sagemaker.sklearn.estimator import SKLearn\n",
    "from sagemaker.tuner import IntegerParameter, HyperparameterTuner\n",
    "from sagemaker.model import Model"
   ]
  },
  {
   "cell_type": "markdown",
   "id": "08c57ad2-01ee-480d-bd54-3fa16ef9dae1",
   "metadata": {},
   "source": [
    "# SageMaker Setting"
   ]
  },
  {
   "cell_type": "code",
   "execution_count": 3,
   "id": "8cca3cf0-75c9-4723-bfa7-790b2efc7989",
   "metadata": {
    "execution": {
     "iopub.execute_input": "2025-08-25T01:46:12.635290Z",
     "iopub.status.busy": "2025-08-25T01:46:12.634614Z",
     "iopub.status.idle": "2025-08-25T01:46:12.995406Z",
     "shell.execute_reply": "2025-08-25T01:46:12.994543Z",
     "shell.execute_reply.started": "2025-08-25T01:46:12.635264Z"
    }
   },
   "outputs": [],
   "source": [
    "boto_session = boto3.Session()\n",
    "sagemaker_session = Session(default_bucket='mlflow-artifacts-dir', boto_session=boto_session)\n",
    "role = get_execution_role()"
   ]
  },
  {
   "cell_type": "markdown",
   "id": "1d7d7134-c72f-469b-96cd-ee50fe3dcfba",
   "metadata": {},
   "source": [
    "# Define Estimator"
   ]
  },
  {
   "cell_type": "code",
   "execution_count": 38,
   "id": "ef563eb8-6334-45f1-a52a-dc6ed542b200",
   "metadata": {
    "execution": {
     "iopub.execute_input": "2025-08-25T05:07:49.240753Z",
     "iopub.status.busy": "2025-08-25T05:07:49.240017Z",
     "iopub.status.idle": "2025-08-25T05:07:49.301950Z",
     "shell.execute_reply": "2025-08-25T05:07:49.301019Z",
     "shell.execute_reply.started": "2025-08-25T05:07:49.240727Z"
    }
   },
   "outputs": [],
   "source": [
    "param_dict = {\n",
    "    'n_estimators' : 200,\n",
    "    'max_depth' : 7,\n",
    "    'max_features' : 10,\n",
    "    'experiment_name' : 'Iris-Project',\n",
    "    'run_name' : 'rf-clf-exp-2'\n",
    "}\n",
    "\n",
    "estimator = SKLearn(\n",
    "    entry_point='train.py',\n",
    "    source_dir='./script',\n",
    "    role=role,\n",
    "    framework_version='1.2-1',\n",
    "    py_version='py3',\n",
    "    instance_type='ml.m5.xlarge',\n",
    "    instance_count=1,\n",
    "    model_dir='/opt/ml/model',\n",
    "    hyperparameters=param_dict\n",
    ")"
   ]
  },
  {
   "cell_type": "markdown",
   "id": "b7dd4e94-05f7-47b0-af89-d405ce3b1efe",
   "metadata": {},
   "source": [
    "# Define HyperparameterTuner"
   ]
  },
  {
   "cell_type": "code",
   "execution_count": 39,
   "id": "434b1b32-6d30-4b86-8497-57b65032fbc3",
   "metadata": {
    "execution": {
     "iopub.execute_input": "2025-08-25T05:07:49.899563Z",
     "iopub.status.busy": "2025-08-25T05:07:49.899241Z",
     "iopub.status.idle": "2025-08-25T05:07:49.903650Z",
     "shell.execute_reply": "2025-08-25T05:07:49.902724Z",
     "shell.execute_reply.started": "2025-08-25T05:07:49.899542Z"
    }
   },
   "outputs": [],
   "source": [
    "param_range = {\n",
    "    'n_estimators' : IntegerParameter(100, 300),\n",
    "    'max_depth' : IntegerParameter(3, 9),\n",
    "    'max_features' : IntegerParameter(3, 10),\n",
    "}\n",
    "\n",
    "tuner = HyperparameterTuner(\n",
    "    estimator=estimator,\n",
    "    objective_metric_name='test accuracy',\n",
    "    objective_type='Maximize',\n",
    "    max_jobs=30,\n",
    "    max_parallel_jobs=3,\n",
    "    hyperparameter_ranges=param_range,\n",
    "    metric_definitions=[\n",
    "        {\n",
    "            'Name' : 'test accuracy',\n",
    "            'Regex' : 'Test Accuracy : ([0-9\\\\.]+)'\n",
    "        }\n",
    "    ]\n",
    ")"
   ]
  },
  {
   "cell_type": "markdown",
   "id": "1b980383-4080-4ce6-8c36-d02851efb6da",
   "metadata": {},
   "source": [
    "# Tuning Estimator Using HyperparameterTuner"
   ]
  },
  {
   "cell_type": "code",
   "execution_count": 40,
   "id": "db6ce09c-376f-493c-ac78-b26e71e19f91",
   "metadata": {
    "execution": {
     "iopub.execute_input": "2025-08-25T05:07:50.931040Z",
     "iopub.status.busy": "2025-08-25T05:07:50.930743Z",
     "iopub.status.idle": "2025-08-25T05:07:50.934455Z",
     "shell.execute_reply": "2025-08-25T05:07:50.933089Z",
     "shell.execute_reply.started": "2025-08-25T05:07:50.931018Z"
    }
   },
   "outputs": [],
   "source": [
    "channels = {\n",
    "    'trainig' : 's3://mlflow-artifacts-dir/iris',\n",
    "    'testing' : 's3://mlflow-artifacts-dir/iris'\n",
    "}"
   ]
  },
  {
   "cell_type": "code",
   "execution_count": 41,
   "id": "73771260-58c3-46e8-ac94-8a6c8b4ce1bf",
   "metadata": {
    "execution": {
     "iopub.execute_input": "2025-08-25T05:07:51.331439Z",
     "iopub.status.busy": "2025-08-25T05:07:51.330761Z",
     "iopub.status.idle": "2025-08-25T05:24:58.958081Z",
     "shell.execute_reply": "2025-08-25T05:24:58.957205Z",
     "shell.execute_reply.started": "2025-08-25T05:07:51.331401Z"
    }
   },
   "outputs": [
    {
     "name": "stderr",
     "output_type": "stream",
     "text": [
      "WARNING:sagemaker.estimator:No finished training job found associated with this estimator. Please make sure this estimator is only used for building workflow config\n",
      "WARNING:sagemaker.estimator:No finished training job found associated with this estimator. Please make sure this estimator is only used for building workflow config\n",
      "INFO:sagemaker:Creating hyperparameter tuning job with name: sagemaker-scikit-lea-250825-0507\n"
     ]
    },
    {
     "name": "stdout",
     "output_type": "stream",
     "text": [
      "........................................................................................................................................................................................................!\n"
     ]
    }
   ],
   "source": [
    "tuner.fit(inputs=channels)"
   ]
  },
  {
   "cell_type": "markdown",
   "id": "282948bd-6937-4958-9c1a-515749185866",
   "metadata": {},
   "source": [
    "# Regist Best Model"
   ]
  },
  {
   "cell_type": "code",
   "execution_count": 46,
   "id": "ef76ead5-af0e-48e6-9aee-d60ccd8bca89",
   "metadata": {
    "execution": {
     "iopub.execute_input": "2025-08-25T05:52:43.098877Z",
     "iopub.status.busy": "2025-08-25T05:52:43.098528Z",
     "iopub.status.idle": "2025-08-25T05:52:48.909852Z",
     "shell.execute_reply": "2025-08-25T05:52:48.908921Z",
     "shell.execute_reply.started": "2025-08-25T05:52:43.098853Z"
    }
   },
   "outputs": [
    {
     "name": "stdout",
     "output_type": "stream",
     "text": [
      "\n",
      "2025-08-25 05:10:59 Starting - Preparing the instances for training\n",
      "2025-08-25 05:10:59 Downloading - Downloading the training image\n",
      "2025-08-25 05:10:59 Training - Training image download completed. Training in progress.\n",
      "2025-08-25 05:10:59 Uploading - Uploading generated training model\n",
      "2025-08-25 05:10:59 Completed - Resource reused by training job: sagemaker-scikit-lea-250825-0507-005-ee120442\n"
     ]
    }
   ],
   "source": [
    "best_estimator = tuner.best_estimator()\n",
    "\n",
    "model = Model(\n",
    "    model_data=best_estimator.model_data,\n",
    "    image_uri=best_estimator.image_uri,\n",
    "    role=role,\n",
    "    sagemaker_session=sagemaker_session\n",
    ")\n",
    "\n",
    "model_package = model.register(\n",
    "    model_package_group_name=\"Iris-RF-CLF\",\n",
    "    approval_status=\"PendingManualApproval\"\n",
    ")"
   ]
  }
 ],
 "metadata": {
  "kernelspec": {
   "display_name": "Python 3 (ipykernel)",
   "language": "python",
   "name": "python3"
  },
  "language_info": {
   "codemirror_mode": {
    "name": "ipython",
    "version": 3
   },
   "file_extension": ".py",
   "mimetype": "text/x-python",
   "name": "python",
   "nbconvert_exporter": "python",
   "pygments_lexer": "ipython3",
   "version": "3.12.9"
  }
 },
 "nbformat": 4,
 "nbformat_minor": 5
}
