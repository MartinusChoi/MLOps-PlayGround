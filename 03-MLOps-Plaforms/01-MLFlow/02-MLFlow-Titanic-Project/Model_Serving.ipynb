{
 "cells": [
  {
   "cell_type": "markdown",
   "id": "474df670",
   "metadata": {},
   "source": [
    "# Import"
   ]
  },
  {
   "cell_type": "code",
   "execution_count": 10,
   "id": "9c04f653",
   "metadata": {},
   "outputs": [],
   "source": [
    "import os\n",
    "import requests\n",
    "import mlflow\n",
    "import pandas as pd\n",
    "from sklearn.metrics import accuracy_score"
   ]
  },
  {
   "cell_type": "markdown",
   "id": "89dd1cc7",
   "metadata": {},
   "source": [
    "# MLFlow Tracking Server Setting"
   ]
  },
  {
   "cell_type": "code",
   "execution_count": 14,
   "id": "d5d274a1",
   "metadata": {},
   "outputs": [],
   "source": [
    "MLFLOW_SERVER_URI = 'http://127.0.0.1:5000'"
   ]
  },
  {
   "cell_type": "code",
   "execution_count": 15,
   "id": "b7dcdb15",
   "metadata": {},
   "outputs": [],
   "source": [
    "mlflow.set_tracking_uri(MLFLOW_SERVER_URI)"
   ]
  },
  {
   "cell_type": "markdown",
   "id": "a8253ae8",
   "metadata": {},
   "source": [
    "# Load Dataset"
   ]
  },
  {
   "cell_type": "code",
   "execution_count": 5,
   "id": "6868eda1",
   "metadata": {},
   "outputs": [
    {
     "data": {
      "text/html": [
       "<div>\n",
       "<style scoped>\n",
       "    .dataframe tbody tr th:only-of-type {\n",
       "        vertical-align: middle;\n",
       "    }\n",
       "\n",
       "    .dataframe tbody tr th {\n",
       "        vertical-align: top;\n",
       "    }\n",
       "\n",
       "    .dataframe thead th {\n",
       "        text-align: right;\n",
       "    }\n",
       "</style>\n",
       "<table border=\"1\" class=\"dataframe\">\n",
       "  <thead>\n",
       "    <tr style=\"text-align: right;\">\n",
       "      <th></th>\n",
       "      <th>Age</th>\n",
       "      <th>SibSp</th>\n",
       "      <th>Parch</th>\n",
       "      <th>Fare</th>\n",
       "      <th>Pclass_1</th>\n",
       "      <th>Pclass_2</th>\n",
       "      <th>Pclass_3</th>\n",
       "      <th>Sex_female</th>\n",
       "      <th>Sex_male</th>\n",
       "      <th>Embarked_C</th>\n",
       "      <th>Embarked_N</th>\n",
       "      <th>Embarked_Q</th>\n",
       "      <th>Embarked_S</th>\n",
       "    </tr>\n",
       "  </thead>\n",
       "  <tbody>\n",
       "    <tr>\n",
       "      <th>0</th>\n",
       "      <td>0.271174</td>\n",
       "      <td>0.125</td>\n",
       "      <td>0.0</td>\n",
       "      <td>0.014151</td>\n",
       "      <td>0</td>\n",
       "      <td>0</td>\n",
       "      <td>1</td>\n",
       "      <td>0</td>\n",
       "      <td>1</td>\n",
       "      <td>0</td>\n",
       "      <td>0</td>\n",
       "      <td>0</td>\n",
       "      <td>1</td>\n",
       "    </tr>\n",
       "    <tr>\n",
       "      <th>1</th>\n",
       "      <td>0.472229</td>\n",
       "      <td>0.125</td>\n",
       "      <td>0.0</td>\n",
       "      <td>0.139136</td>\n",
       "      <td>1</td>\n",
       "      <td>0</td>\n",
       "      <td>0</td>\n",
       "      <td>1</td>\n",
       "      <td>0</td>\n",
       "      <td>1</td>\n",
       "      <td>0</td>\n",
       "      <td>0</td>\n",
       "      <td>0</td>\n",
       "    </tr>\n",
       "    <tr>\n",
       "      <th>2</th>\n",
       "      <td>0.321438</td>\n",
       "      <td>0.000</td>\n",
       "      <td>0.0</td>\n",
       "      <td>0.015469</td>\n",
       "      <td>0</td>\n",
       "      <td>0</td>\n",
       "      <td>1</td>\n",
       "      <td>1</td>\n",
       "      <td>0</td>\n",
       "      <td>0</td>\n",
       "      <td>0</td>\n",
       "      <td>0</td>\n",
       "      <td>1</td>\n",
       "    </tr>\n",
       "    <tr>\n",
       "      <th>3</th>\n",
       "      <td>0.434531</td>\n",
       "      <td>0.125</td>\n",
       "      <td>0.0</td>\n",
       "      <td>0.103644</td>\n",
       "      <td>1</td>\n",
       "      <td>0</td>\n",
       "      <td>0</td>\n",
       "      <td>1</td>\n",
       "      <td>0</td>\n",
       "      <td>0</td>\n",
       "      <td>0</td>\n",
       "      <td>0</td>\n",
       "      <td>1</td>\n",
       "    </tr>\n",
       "    <tr>\n",
       "      <th>4</th>\n",
       "      <td>0.434531</td>\n",
       "      <td>0.000</td>\n",
       "      <td>0.0</td>\n",
       "      <td>0.015713</td>\n",
       "      <td>0</td>\n",
       "      <td>0</td>\n",
       "      <td>1</td>\n",
       "      <td>0</td>\n",
       "      <td>1</td>\n",
       "      <td>0</td>\n",
       "      <td>0</td>\n",
       "      <td>0</td>\n",
       "      <td>1</td>\n",
       "    </tr>\n",
       "  </tbody>\n",
       "</table>\n",
       "</div>"
      ],
      "text/plain": [
       "        Age  SibSp  Parch      Fare  Pclass_1  Pclass_2  Pclass_3  Sex_female  \\\n",
       "0  0.271174  0.125    0.0  0.014151         0         0         1           0   \n",
       "1  0.472229  0.125    0.0  0.139136         1         0         0           1   \n",
       "2  0.321438  0.000    0.0  0.015469         0         0         1           1   \n",
       "3  0.434531  0.125    0.0  0.103644         1         0         0           1   \n",
       "4  0.434531  0.000    0.0  0.015713         0         0         1           0   \n",
       "\n",
       "   Sex_male  Embarked_C  Embarked_N  Embarked_Q  Embarked_S  \n",
       "0         1           0           0           0           1  \n",
       "1         0           1           0           0           0  \n",
       "2         0           0           0           0           1  \n",
       "3         0           0           0           0           1  \n",
       "4         1           0           0           0           1  "
      ]
     },
     "execution_count": 5,
     "metadata": {},
     "output_type": "execute_result"
    }
   ],
   "source": [
    "dataset = pd.read_csv(os.path.join(os.getcwd(), 'data', 'dataset_processed.csv'))\n",
    "\n",
    "target = dataset['Survived']\n",
    "dataset = dataset.drop(['Survived'], axis=1)\n",
    "\n",
    "dataset.head()"
   ]
  },
  {
   "cell_type": "markdown",
   "id": "d4888b3f",
   "metadata": {},
   "source": [
    "# Load/Inference Staging Model"
   ]
  },
  {
   "cell_type": "code",
   "execution_count": 6,
   "id": "1a80cf91",
   "metadata": {},
   "outputs": [],
   "source": [
    "staging_model_registry = \"staging.titanic.random_forest_clf\"\n",
    "staging_version = \"2\"\n",
    "staging_model_uri = f\"models:/{staging_model_registry}/{staging_version}\"\n",
    "\n",
    "staging_model = mlflow.pyfunc.load_model(staging_model_uri)"
   ]
  },
  {
   "cell_type": "code",
   "execution_count": 7,
   "id": "4f886b7a",
   "metadata": {},
   "outputs": [
    {
     "name": "stdout",
     "output_type": "stream",
     "text": [
      "Accuracy of Staging Model : 0.9214365881032548\n"
     ]
    }
   ],
   "source": [
    "prediction = staging_model.predict(dataset)\n",
    "\n",
    "print(\n",
    "    f\"Accuracy of Staging Model : {accuracy_score(target, prediction)}\"\n",
    ")"
   ]
  },
  {
   "cell_type": "markdown",
   "id": "1175b104",
   "metadata": {},
   "source": [
    "# Load/Inference Production Model"
   ]
  },
  {
   "cell_type": "code",
   "execution_count": 11,
   "id": "7e9aba41",
   "metadata": {},
   "outputs": [],
   "source": [
    "prod_model_registry = \"prod.titanic.random_forest_clf\"\n",
    "prod_version = \"1\"\n",
    "prod_model_uri = f\"models:/{prod_model_registry}/{prod_version}\"\n",
    "\n",
    "prod_model = mlflow.pyfunc.load_model(prod_model_uri)"
   ]
  },
  {
   "cell_type": "code",
   "execution_count": 12,
   "id": "4c285993",
   "metadata": {},
   "outputs": [
    {
     "name": "stdout",
     "output_type": "stream",
     "text": [
      "Accuracy of Production Model : 0.9225589225589226\n"
     ]
    }
   ],
   "source": [
    "prediction = prod_model.predict(dataset)\n",
    "\n",
    "print(\n",
    "    f\"Accuracy of Production Model : {accuracy_score(target, prediction)}\"\n",
    ")"
   ]
  },
  {
   "cell_type": "markdown",
   "id": "fe316425",
   "metadata": {},
   "source": [
    "# Model Serving Using MLFlow\n",
    "\n",
    "1. terminal > `export MLFLOW_TRACKING_URI=http://127.0.0.1:5000`\n",
    "2. terminal > `mlflow models server -m models:/prod.titanic.random_forest_clf -p 5001 --no-conda`"
   ]
  },
  {
   "cell_type": "code",
   "execution_count": null,
   "id": "8831f66c",
   "metadata": {},
   "outputs": [
    {
     "name": "stdout",
     "output_type": "stream",
     "text": [
      "Pyfunc 'predict_interval' : \n",
      "${'predictions': [0, 1, 1, 1, 0, 0, 0, 0, 1, 1]}\n"
     ]
    }
   ],
   "source": [
    "host = \"127.0.0.1\"\n",
    "port = \"5001\"\n",
    "url = f\"http://{host}:{port}/invocations\"\n",
    "\n",
    "json_data = {\n",
    "    \"dataframe_split\" : dataset[:10].to_dict(orient=\"split\")\n",
    "}\n",
    "\n",
    "response = requests.post(url, json=json_data)\n",
    "\n",
    "print(\n",
    "    f\"Pyfunc 'predict_interval' : \\n${response.json()}\"\n",
    ")"
   ]
  },
  {
   "cell_type": "code",
   "execution_count": 19,
   "id": "e90c43ab",
   "metadata": {},
   "outputs": [
    {
     "name": "stdout",
     "output_type": "stream",
     "text": [
      "Pyfunc 'predict_interval' : \n",
      "${'predictions': [0, 0, 1, 0, 0, 0, 0, 0, 1, 0, 0, 1, 1, 0, 0, 0, 0, 0, 0, 0]}\n"
     ]
    }
   ],
   "source": [
    "json_data = {\n",
    "    \"dataframe_split\" : dataset[20:40].to_dict(orient=\"split\")\n",
    "}\n",
    "\n",
    "response = requests.post(url, json=json_data)\n",
    "\n",
    "print(\n",
    "    f\"Pyfunc 'predict_interval' : \\n${response.json()}\"\n",
    ")"
   ]
  },
  {
   "cell_type": "markdown",
   "id": "17ca0461",
   "metadata": {},
   "source": [
    "# Deploy on Cloud"
   ]
  },
  {
   "cell_type": "markdown",
   "id": "b0a5bedd",
   "metadata": {},
   "source": [
    "## AWS SageMaker\n",
    "\n",
    "- `mlflow sagemaker build-and-push-container`\n",
    "- `mlflow sagemaker deploy {parameters}`"
   ]
  },
  {
   "cell_type": "markdown",
   "id": "16ab9195",
   "metadata": {},
   "source": [
    "## AzureML\n",
    "\n",
    "- `mlflow azureml export -m {model path} -o test-output`"
   ]
  }
 ],
 "metadata": {
  "kernelspec": {
   "display_name": "mlops",
   "language": "python",
   "name": "python3"
  },
  "language_info": {
   "codemirror_mode": {
    "name": "ipython",
    "version": 3
   },
   "file_extension": ".py",
   "mimetype": "text/x-python",
   "name": "python",
   "nbconvert_exporter": "python",
   "pygments_lexer": "ipython3",
   "version": "3.10.18"
  }
 },
 "nbformat": 4,
 "nbformat_minor": 5
}
