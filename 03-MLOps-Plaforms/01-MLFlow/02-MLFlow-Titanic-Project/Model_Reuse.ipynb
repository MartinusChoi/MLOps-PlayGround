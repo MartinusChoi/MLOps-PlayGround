{
 "cells": [
  {
   "cell_type": "markdown",
   "id": "abc10f10",
   "metadata": {},
   "source": [
    "# Import"
   ]
  },
  {
   "cell_type": "code",
   "execution_count": 2,
   "id": "5a219332",
   "metadata": {},
   "outputs": [],
   "source": [
    "import os\n",
    "import mlflow\n",
    "import pandas as pd\n",
    "from sklearn.metrics import accuracy_score"
   ]
  },
  {
   "cell_type": "markdown",
   "id": "2ac37df3",
   "metadata": {},
   "source": [
    "# Load Dataset & Model"
   ]
  },
  {
   "cell_type": "code",
   "execution_count": 7,
   "id": "58f74ace",
   "metadata": {},
   "outputs": [],
   "source": [
    "LOGGED_MODEL = 'runs:/0ea3aedc608441afa62b5e1b644d15b2/model'\n",
    "DATASET_PATH = os.path.join(os.getcwd(), 'data', 'dataset_processed.csv')\n",
    "\n",
    "# load model\n",
    "mlflow.set_tracking_uri('http://127.0.0.1:5000')\n",
    "logged_model = mlflow.pyfunc.load_model(LOGGED_MODEL)\n",
    "\n",
    "# load dataset\n",
    "dataset = pd.read_csv(DATASET_PATH)\n",
    "target = dataset['Survived']\n",
    "dataset = dataset.drop('Survived', axis=1)"
   ]
  },
  {
   "cell_type": "code",
   "execution_count": 9,
   "id": "cbf2d051",
   "metadata": {},
   "outputs": [
    {
     "data": {
      "text/plain": [
       "mlflow.pyfunc.loaded_model:\n",
       "  artifact_path: mlflow-artifacts:/758022013946411100/models/m-5a67ff2552304d0eb13837e020e0373f/artifacts\n",
       "  flavor: mlflow.sklearn\n",
       "  run_id: 0ea3aedc608441afa62b5e1b644d15b2"
      ]
     },
     "execution_count": 9,
     "metadata": {},
     "output_type": "execute_result"
    }
   ],
   "source": [
    "logged_model"
   ]
  },
  {
   "cell_type": "markdown",
   "id": "79827e94",
   "metadata": {},
   "source": [
    "# Inference with Logged Model"
   ]
  },
  {
   "cell_type": "code",
   "execution_count": 10,
   "id": "95d92477",
   "metadata": {},
   "outputs": [],
   "source": [
    "prediction = logged_model.predict(dataset)"
   ]
  },
  {
   "cell_type": "code",
   "execution_count": 11,
   "id": "b74f68d4",
   "metadata": {},
   "outputs": [
    {
     "name": "stdout",
     "output_type": "stream",
     "text": [
      "Accuracy Score of Model with Run ID runs:/0ea3aedc608441afa62b5e1b644d15b2/model : 0.9214365881032548\n"
     ]
    }
   ],
   "source": [
    "print(\n",
    "    f\"Accuracy Score of Model with Run ID {LOGGED_MODEL} : {accuracy_score(target, prediction)}\"\n",
    ")"
   ]
  }
 ],
 "metadata": {
  "kernelspec": {
   "display_name": "mlops",
   "language": "python",
   "name": "python3"
  },
  "language_info": {
   "codemirror_mode": {
    "name": "ipython",
    "version": 3
   },
   "file_extension": ".py",
   "mimetype": "text/x-python",
   "name": "python",
   "nbconvert_exporter": "python",
   "pygments_lexer": "ipython3",
   "version": "3.10.18"
  }
 },
 "nbformat": 4,
 "nbformat_minor": 5
}
