{
 "cells": [
  {
   "cell_type": "code",
   "execution_count": 4,
   "id": "81a97408",
   "metadata": {},
   "outputs": [
    {
     "name": "stderr",
     "output_type": "stream",
     "text": [
      "2025/08/19 12:21:26 INFO mlflow.utils.autologging_utils: Created MLflow autologging run with ID 'e96d2347fa504ac7b238dcdd2648d39b', which will track hyperparameters, performance metrics, model artifacts, and lineage information for the current sklearn workflow\n"
     ]
    },
    {
     "name": "stdout",
     "output_type": "stream",
     "text": [
      "🏃 View run beautiful-mule-202 at: http://127.0.0.1:5000/#/experiments/0/runs/e96d2347fa504ac7b238dcdd2648d39b\n",
      "🧪 View experiment at: http://127.0.0.1:5000/#/experiments/0\n"
     ]
    }
   ],
   "source": [
    "import mlflow\n",
    "\n",
    "from sklearn.datasets import load_diabetes\n",
    "from sklearn.model_selection import train_test_split\n",
    "from sklearn.ensemble import RandomForestRegressor\n",
    "\n",
    "# 학습에 대한 자동 로깅\n",
    "mlflow.set_tracking_uri('http://127.0.0.1:5000')\n",
    "mlflow.sklearn.autolog()\n",
    "data = load_diabetes()\n",
    "X_train, X_test, y_train, y_test = train_test_split(data.data, data.target)\n",
    "\n",
    "rf_reg = RandomForestRegressor(n_estimators=120, max_depth=10, max_features=5)\n",
    "rf_reg.fit(X_train, y_train)\n",
    "\n",
    "pred = rf_reg.predict(X_test)"
   ]
  },
  {
   "cell_type": "code",
   "execution_count": 5,
   "id": "eda35bea",
   "metadata": {},
   "outputs": [
    {
     "name": "stderr",
     "output_type": "stream",
     "text": [
      "2025/08/19 12:23:49 INFO mlflow.utils.autologging_utils: Created MLflow autologging run with ID '5097732ec0754d1cbac85f5366eb372b', which will track hyperparameters, performance metrics, model artifacts, and lineage information for the current sklearn workflow\n"
     ]
    },
    {
     "name": "stdout",
     "output_type": "stream",
     "text": [
      "🏃 View run whimsical-foal-683 at: http://127.0.0.1:5000/#/experiments/0/runs/5097732ec0754d1cbac85f5366eb372b\n",
      "🧪 View experiment at: http://127.0.0.1:5000/#/experiments/0\n"
     ]
    }
   ],
   "source": [
    "# 학습에 대한 자동 로깅\n",
    "mlflow.set_tracking_uri('http://127.0.0.1:5000')\n",
    "mlflow.sklearn.autolog()\n",
    "data = load_diabetes()\n",
    "X_train, X_test, y_train, y_test = train_test_split(data.data, data.target)\n",
    "\n",
    "rf_reg = RandomForestRegressor(n_estimators=100, max_depth=20, max_features=10)\n",
    "rf_reg.fit(X_train, y_train)\n",
    "\n",
    "pred = rf_reg.predict(X_test)"
   ]
  },
  {
   "cell_type": "code",
   "execution_count": null,
   "id": "d77b51b3",
   "metadata": {},
   "outputs": [],
   "source": []
  }
 ],
 "metadata": {
  "kernelspec": {
   "display_name": "mlops",
   "language": "python",
   "name": "python3"
  },
  "language_info": {
   "codemirror_mode": {
    "name": "ipython",
    "version": 3
   },
   "file_extension": ".py",
   "mimetype": "text/x-python",
   "name": "python",
   "nbconvert_exporter": "python",
   "pygments_lexer": "ipython3",
   "version": "3.10.18"
  }
 },
 "nbformat": 4,
 "nbformat_minor": 5
}
